{
  "cells": [
    {
      "cell_type": "code",
      "execution_count": 76,
      "id": "42avAvSg17by",
      "metadata": {
        "id": "42avAvSg17by"
      },
      "outputs": [],
      "source": [
        "# imports pytorch\n",
        "import torch\n",
        "\n",
        "\n",
        "XLA_USE_BF16=1"
      ]
    },
    {
      "cell_type": "code",
      "execution_count": 77,
      "id": "318d1165-92db-4612-a238-bb143178bf2a",
      "metadata": {
        "id": "318d1165-92db-4612-a238-bb143178bf2a"
      },
      "outputs": [],
      "source": [
        "import time\n",
        "from datetime import datetime\n",
        "import glob\n",
        "import pandas as pd\n",
        "import seaborn as sns\n",
        "from IPython.display import Image, display\n",
        "import os\n",
        "import torchvision.transforms as transforms\n",
        "from torch.utils.data import DataLoader\n",
        "from torch.utils.data import Dataset\n",
        "from PIL import Image as Img\n",
        "import matplotlib.pyplot as plt\n",
        "from torchvision.io import read_image\n",
        "from torchvision.datasets.utils import download_url\n",
        "import torch.nn as nn\n",
        "import torchvision\n",
        "import torch.nn.functional as F\n",
        "from torch.autograd import Variable\n",
        "from sklearn.metrics import confusion_matrix\n",
        "from sklearn.model_selection import train_test_split\n",
        "import numpy as np\n",
        "import torch.backends\n",
        "import zipfile\n",
        "import matplotlib.pyplot as plt\n",
        "from sklearn.datasets import make_classification\n",
        "from sklearn.metrics import confusion_matrix, ConfusionMatrixDisplay\n",
        "from sklearn.model_selection import train_test_split\n",
        "from sklearn.svm import SVC\n",
        "\n",
        "torch.backends.cudnn.enabled = False\n",
        "#CUDA_LAUNCH_BLOCKING=1."
      ]
    },
    {
      "cell_type": "markdown",
      "id": "wre_3M3H6hQR",
      "metadata": {
        "id": "wre_3M3H6hQR"
      },
      "source": [
        "# Nueva sección"
      ]
    },
    {
      "cell_type": "code",
      "execution_count": 78,
      "id": "Hy-8tyhp6i8g",
      "metadata": {
        "colab": {
          "base_uri": "https://localhost:8080/"
        },
        "id": "Hy-8tyhp6i8g",
        "outputId": "a7156ec5-eebe-41f8-e669-07e0202fa517"
      },
      "outputs": [],
      "source": [
        "dataset_url = r\"https://challenges-asset-files.s3.us-east-2.amazonaws.com/Events/Oracle+Liga+Uni/1r+Reto/1st_oracle_challenge.zip\"\n",
        "\n",
        "# Descargar dataset si no existe\n",
        "if not os.path.exists(r\"./dataset\"):\n",
        "    print(\">>>Descargando Datos\")\n",
        "    download_url(dataset_url, r\"./dataset\", \"data.zip\")\n",
        "    with zipfile.ZipFile(r\"./dataset/data.zip\") as zip_dataset:\n",
        "        print(\">>>Descomprimiendo Dataset\")\n",
        "        zip_dataset.extractall(r\"./dataset\")\n",
        "    os.remove(r\"./dataset/data.zip\")\n",
        "    os.rename(\"./dataset/imgs\",\"./dataset/all_imgs\")\n",
        "\n",
        "dataset_folder_path: str = r\"./dataset\""
      ]
    },
    {
      "cell_type": "code",
      "execution_count": 79,
      "id": "ebb83022-e2f5-41c9-aebf-e06a4593585f",
      "metadata": {
        "id": "ebb83022-e2f5-41c9-aebf-e06a4593585f"
      },
      "outputs": [
        {
          "data": {
            "text/plain": [
              "276892160"
            ]
          },
          "execution_count": 79,
          "metadata": {},
          "output_type": "execute_result"
        }
      ],
      "source": [
        "\n",
        "archivo_train = r\"./dataset/train.csv\"\n",
        "archivo_test = r\"./dataset/test_no_label.csv\"\n",
        "dir_imagenes = r\"./dataset/all_imgs/\"\n",
        "model_dir = r\"./models/\"\n",
        "torch.cuda.max_memory_allocated(0)"
      ]
    },
    {
      "cell_type": "code",
      "execution_count": 80,
      "id": "1f4d648b-32e8-446b-b3b9-132d927f4d45",
      "metadata": {
        "id": "1f4d648b-32e8-446b-b3b9-132d927f4d45"
      },
      "outputs": [],
      "source": [
        "dataset : pd.DataFrame = pd.read_csv(archivo_train, index_col=0)"
      ]
    },
    {
      "cell_type": "code",
      "execution_count": 81,
      "id": "bEo0tcDJ9va8",
      "metadata": {
        "id": "bEo0tcDJ9va8"
      },
      "outputs": [
        {
          "name": "stdout",
          "output_type": "stream",
          "text": [
            "                                                    path_img  label\n",
            "idx_train                                                          \n",
            "0          all_imgs/bc7696f4-1460-4d0b-a63d-f84b3be4da0f....      0\n",
            "1          all_imgs/f8d50663-60d8-4da5-a8b8-79f954aec503....      2\n",
            "2          all_imgs/51df0f29-758b-4741-ab74-a0ff8e21c044....      4\n",
            "3          all_imgs/f61b81d3-3b79-4162-b4d6-4f1b39518c4c....      0\n",
            "4          all_imgs/b21e0668-bd09-4794-9e90-da8ecffc4c1c....      0\n"
          ]
        }
      ],
      "source": [
        "print(dataset.head())"
      ]
    },
    {
      "cell_type": "code",
      "execution_count": 82,
      "id": "2f4b04c7-e386-4f22-8423-7a6178e9d96f",
      "metadata": {
        "colab": {
          "base_uri": "https://localhost:8080/"
        },
        "id": "2f4b04c7-e386-4f22-8423-7a6178e9d96f",
        "outputId": "c45d57e1-ccaa-4b02-db94-bc6299016bf7"
      },
      "outputs": [],
      "source": [
        "# Estratificar los dataset para que comprenda todas las clases por igual.\n",
        "train_dataset, val_dataset = train_test_split(\n",
        "    dataset, test_size=0.3, random_state=17, stratify=dataset.iloc[:,1])"
      ]
    },
    {
      "cell_type": "code",
      "execution_count": 83,
      "id": "e5db6039",
      "metadata": {},
      "outputs": [
        {
          "data": {
            "image/png": "[encoded data removed]",
            "text/plain": [
              "<Figure size 500x500 with 1 Axes>"
            ]
          },
          "metadata": {},
          "output_type": "display_data"
        }
      ],
      "source": [
        "sns.displot(dataset.label)\n",
        "plt.show()"
      ]
    },
    {
      "cell_type": "code",
      "execution_count": 84,
      "id": "3b111cd7-387f-420f-bc08-34ad9db1b813",
      "metadata": {
        "colab": {
          "base_uri": "https://localhost:8080/",
          "height": 112
        },
        "id": "3b111cd7-387f-420f-bc08-34ad9db1b813",
        "outputId": "8834f494-0c18-4654-cfa3-0cd0a8618f5f"
      },
      "outputs": [
        {
          "data": {
            "image/png": "[encoded data removed]",
            "text/plain": [
              "<Figure size 500x500 with 1 Axes>"
            ]
          },
          "metadata": {},
          "output_type": "display_data"
        }
      ],
      "source": [
        "sns.displot(train_dataset.label)\n",
        "plt.show()"
      ]
    },
    {
      "cell_type": "code",
      "execution_count": 85,
      "id": "10d103e4",
      "metadata": {},
      "outputs": [
        {
          "data": {
            "image/png": "[encoded data removed]",
            "text/plain": [
              "<Figure size 500x500 with 1 Axes>"
            ]
          },
          "metadata": {},
          "output_type": "display_data"
        }
      ],
      "source": [
        "sns.displot(val_dataset.label)\n",
        "plt.show()"
      ]
    },
    {
      "cell_type": "code",
      "execution_count": 86,
      "id": "912b572b-1ad6-4e90-8f4e-20574d917356",
      "metadata": {
        "colab": {
          "base_uri": "https://localhost:8080/"
        },
        "id": "912b572b-1ad6-4e90-8f4e-20574d917356",
        "outputId": "9f9655c5-a54f-4d72-df8d-b1ed2a51605e"
      },
      "outputs": [
        {
          "data": {
            "text/plain": [
              "<torch._C.Generator at 0x22941b19dd0>"
            ]
          },
          "execution_count": 86,
          "metadata": {},
          "output_type": "execute_result"
        }
      ],
      "source": [
        "torch.manual_seed(17)"
      ]
    },
    {
      "cell_type": "code",
      "execution_count": 87,
      "id": "a60d4a3a-bc79-47f1-9040-06f8e4140b46",
      "metadata": {
        "id": "a60d4a3a-bc79-47f1-9040-06f8e4140b46"
      },
      "outputs": [],
      "source": [
        "class ComidasDataset(Dataset):\n",
        "    def __init__(self, annotations_file : pd.DataFrame, transform=None, target_transform=None):\n",
        "        self.img_labels = annotations_file\n",
        "        self.transform = transform\n",
        "        self.target_transform = target_transform\n",
        "\n",
        "    def __len__(self):\n",
        "        return len(self.img_labels)\n",
        "\n",
        "    def __getitem__(self, idx):\n",
        "        # img_path = os.path.join(self.img_dir, self.img_labels.iloc[idx, 0])\n",
        "        img_path = self.img_labels.iloc[idx, 0]\n",
        "        img_path = dir_imagenes + os.path.basename(img_path)\n",
        "        image = Img.open(img_path).convert('RGB')\n",
        "        label = self.img_labels.iloc[idx, 1]\n",
        "        if self.transform:\n",
        "            image = self.transform(image)\n",
        "        if self.target_transform:\n",
        "            label = self.target_transform(label)\n",
        "\n",
        "        return image, label"
      ]
    },
    {
      "cell_type": "code",
      "execution_count": 88,
      "id": "9412a324-39dc-42b8-8c6a-36b5c713ce68",
      "metadata": {
        "id": "9412a324-39dc-42b8-8c6a-36b5c713ce68"
      },
      "outputs": [],
      "source": [
        "transform = transforms.Compose([\n",
        "    transforms.Resize(size=(400,400)),\n",
        "    transforms.RandomResizedCrop(300),\n",
        "    transforms.ToTensor(),\n",
        "    transforms.RandomHorizontalFlip()\n",
        "])"
      ]
    },
    {
      "cell_type": "code",
      "execution_count": 89,
      "id": "1aff671c-35b1-4d71-bb27-06fc4588d8d9",
      "metadata": {
        "id": "1aff671c-35b1-4d71-bb27-06fc4588d8d9"
      },
      "outputs": [],
      "source": [
        "dat_train = ComidasDataset( train_dataset, transform=transform )\n",
        "dat_test = ComidasDataset( val_dataset, transform=transform )"
      ]
    },
    {
      "cell_type": "code",
      "execution_count": 90,
      "id": "bfeff77d-858e-41d1-acf2-7dc2290b0717",
      "metadata": {
        "id": "bfeff77d-858e-41d1-acf2-7dc2290b0717"
      },
      "outputs": [],
      "source": [
        "\"\"\" Muy importante:\n",
        "    Aqui se decide el batch size, que despues se incluye en la capa lineal\n",
        "\"\"\"\n",
        "train_dataloader = DataLoader(dat_train, batch_size=10, shuffle=True)\n",
        "test_dataloader = DataLoader(dat_test, batch_size=10, shuffle=True)"
      ]
    },
    {
      "cell_type": "code",
      "execution_count": 91,
      "id": "63539039-3c6a-4cbd-a1a1-91c7d197b213",
      "metadata": {
        "id": "63539039-3c6a-4cbd-a1a1-91c7d197b213"
      },
      "outputs": [],
      "source": [
        "# base de rnn sacada de https://learn.microsoft.com/en-us/windows/ai/windows-ml/tutorials/pytorch-train-model\n",
        "\n",
        "\n",
        "# Define a convolution neural network\n",
        "# Variotanal autoencoder ?\n",
        "class Network(nn.Module):\n",
        "    def __init__(self):\n",
        "        super(Network, self).__init__()\n",
        "        # se han usadp kernels de 3x3 para no complicar los calculos de dimensiones\n",
        "        \n",
        "        # in_channes = 3 colores (RGB)\n",
        "        # out_channes = salidad de la convolucion (3*4)? \n",
        "        # kernes_size = tamaño de la cuadricula de convolucion\n",
        "        # stride = pasos que se mueve la convolucion\n",
        "        # padding = bode generado para no perder features en los extremos\n",
        "        # Sacal un featuremap de 12 canales: [batchx12x512x512}\n",
        "        self.conv1 = nn.Conv2d(in_channels=3, out_channels=12, kernel_size=5, stride=1, padding=2)\n",
        "        self.bn1 = nn.BatchNorm2d(12)\n",
        "\n",
        "        self.conv2 = nn.Conv2d(in_channels=12, out_channels=12, kernel_size=5, stride=1, padding=2)\n",
        "        self.bn2 = nn.BatchNorm2d(12)\n",
        "        # max pool reduce las dimensiones del featuremp\n",
        "        # salida = [batchx12x64x64]\n",
        "        self.pool = nn.MaxPool2d(2, 2)\n",
        "\n",
        "        # salida = [batchx24x64x64]\n",
        "        self.conv4 = nn.Conv2d(in_channels=12, out_channels=24, kernel_size=3, stride=1, padding=1)\n",
        "        self.bn4 = nn.BatchNorm2d(24)\n",
        "        \n",
        "        # salida = [batchx24x64x64]\n",
        "        self.conv5 = nn.Conv2d(in_channels=24, out_channels=24, kernel_size=3, stride=1, padding=1)\n",
        "        self.bn5 = nn.BatchNorm2d(24)\n",
        "\n",
        "        #test, no se usa en el resultado\n",
        "        self.flat = nn.Flatten()\n",
        "\n",
        "        self.fc2 = nn.Linear(24*150*150, 128)\n",
        "        self.fc1 = nn.Linear(128, 8)\n",
        "        \n",
        "        \n",
        "        \n",
        "    def forward(self, input):\n",
        "        # fase 1 se pasa el output de la convolucion a BatchNorm y a ReLu\n",
        "        output = F.relu(self.bn1(self.conv1(input)))\n",
        "        output = F.relu(self.bn2(self.conv2(output)))\n",
        "        output = self.pool(output)\n",
        "        output = F.relu(self.bn4(self.conv4(output)))\n",
        "        output = F.relu(self.bn5(self.conv5(output)))\n",
        "        #print(output.size())\n",
        "        output = output.view(-1, 24*150*150)\n",
        "        #print(output.size())\n",
        "        output = self.fc2(output)\n",
        "        output = self.fc1(output)\n",
        "        return output\n",
        "\n",
        "\n",
        "# Instantiate a neural network model \n",
        "model = Network()"
      ]
    },
    {
      "cell_type": "code",
      "execution_count": 92,
      "id": "14b79b8a-7713-42c2-8f65-72f4075eda08",
      "metadata": {
        "colab": {
          "base_uri": "https://localhost:8080/"
        },
        "id": "14b79b8a-7713-42c2-8f65-72f4075eda08",
        "outputId": "769f94e1-62b2-4d9d-dd23-d64350b6e7ce"
      },
      "outputs": [
        {
          "name": "stdout",
          "output_type": "stream",
          "text": [
            "Using cuda:0: --> NVIDIA GeForce RTX 3050 Ti Laptop GPU device\n"
          ]
        }
      ],
      "source": [
        "device = device = torch.device(\"cuda:0\" if torch.cuda.is_available() else \"cpu\")\n",
        "print(f\"Using {device}: --> {torch.cuda.get_device_name(device)} device\")"
      ]
    },
    {
      "cell_type": "code",
      "execution_count": 93,
      "id": "abc4b0bf-78f5-4a29-babe-9b5e4252c072",
      "metadata": {
        "id": "abc4b0bf-78f5-4a29-babe-9b5e4252c072"
      },
      "outputs": [],
      "source": [
        "# Funciones base sacadas de https://pytorch.org/tutorials/beginner/basics/optimization_tutorial.html\n",
        "def train_loop(dataloader, model, loss_fn, optimizer):\n",
        "    best_accuracy = 0.0\n",
        "    \n",
        "    # Define your execution device\n",
        "    device = torch.device(\"cuda:0\" if torch.cuda.is_available() else \"cpu\")\n",
        "    # device = xm.xla_device()\n",
        "    print(\"The model will be running on\", device, \"device\")\n",
        "    # Convert model parameters and buffers to CPU or Cuda\n",
        "    model = model.to(device)\n",
        "    size = len(dataloader.dataset)\n",
        "\n",
        "    for batch, (images, label) in enumerate(dataloader):\n",
        "        # get the inputs\n",
        "        #X = Variable(torch.tensor(images))\n",
        "        images = images.to(device)\n",
        "        y = Variable(label.to(device))\n",
        "\n",
        "        # Compute prediction and loss\n",
        "        pred = model(images)\n",
        "        loss = loss_fn(pred, y)\n",
        "\n",
        "        # Backpropagation\n",
        "        optimizer.zero_grad()\n",
        "        loss.backward()\n",
        "        optimizer.step()\n",
        "\n",
        "        # print(batch)\n",
        "        # print cada 2 batches = 2 * 1024 = 2048 imagenes\n",
        "        if batch % 5 == 0:\n",
        "            loss, current = loss.item(), (batch + 1) * len(images)\n",
        "            print(f\"loss: {loss:>7f}  [{current:>5d}/{size:>5d}]\")\n",
        "\n",
        "\n",
        "def test_loop(dataloader, model, loss_fn):\n",
        "    size = len(dataloader.dataset)\n",
        "    num_batches = len(dataloader)\n",
        "    test_loss, correct = 0, 0\n",
        "\n",
        "    # Define your execution device\n",
        "    device = torch.device(\"cuda:0\" if torch.cuda.is_available() else \"cpu\")\n",
        "    # device = xm.xla_device()\n",
        "\n",
        "    # matriz de confusion\n",
        "    y_pred = []\n",
        "    y_true = []\n",
        "\n",
        "\n",
        "    with torch.no_grad():\n",
        "        for X, y in dataloader:\n",
        "            X = X.to(device)\n",
        "            y = y.to(device)\n",
        "\n",
        "            pred = model(X)\n",
        "            '''\n",
        "            output = (torch.max(torch.exp(pred), 1)[1]).data.cpu().numpy()\n",
        "\n",
        "            y_pred.extend(output) # Save Prediction\n",
        "        \n",
        "            labels = labels.data.cpu().numpy()\n",
        "            y_true.extend(labels) # Save Truth\n",
        "            '''\n",
        "            test_loss += loss_fn(pred, y).item()\n",
        "            correct += (pred.argmax(1) == y).type(torch.float).sum().item()\n",
        "    '''\n",
        "    conf_matrix = confusion_matrix(y_true, y_pred)\n",
        "    print(\"Confusion\")\n",
        "    print(conf_matrix)\n",
        "    '''\n",
        "\n",
        "    test_loss /= num_batches\n",
        "    correct /= size\n",
        "    print(f\"Test Error: \\n Accuracy: {(100*correct):>0.1f}%, Avg loss: {test_loss:>8f} \\n\")\n",
        "    return (100*correct)"
      ]
    },
    {
      "cell_type": "code",
      "execution_count": 94,
      "id": "lOFKujTChKPg",
      "metadata": {
        "id": "lOFKujTChKPg"
      },
      "outputs": [
        {
          "name": "stdout",
          "output_type": "stream",
          "text": [
            "Utilizando: NVIDIA GeForce RTX 3050 Ti Laptop GPU\n",
            "|===========================================================================|\n",
            "|                  PyTorch CUDA memory summary, device ID 0                 |\n",
            "|---------------------------------------------------------------------------|\n",
            "|            CUDA OOMs: 0            |        cudaMalloc retries: 0         |\n",
            "|===========================================================================|\n",
            "|        Metric         | Cur Usage  | Peak Usage | Tot Alloc  | Tot Freed  |\n",
            "|---------------------------------------------------------------------------|\n",
            "| Allocated memory      |       0 B  |  270402 KB |  270402 KB |  270402 KB |\n",
            "|       from large pool |       0 B  |  270336 KB |  270336 KB |  270336 KB |\n",
            "|       from small pool |       0 B  |      66 KB |      66 KB |      66 KB |\n",
            "|---------------------------------------------------------------------------|\n",
            "| Active memory         |       0 B  |  270402 KB |  270402 KB |  270402 KB |\n",
            "|       from large pool |       0 B  |  270336 KB |  270336 KB |  270336 KB |\n",
            "|       from small pool |       0 B  |      66 KB |      66 KB |      66 KB |\n",
            "|---------------------------------------------------------------------------|\n",
            "| GPU reserved memory   |       0 B  |  272384 KB |  272384 KB |  272384 KB |\n",
            "|       from large pool |       0 B  |  270336 KB |  270336 KB |  270336 KB |\n",
            "|       from small pool |       0 B  |    2048 KB |    2048 KB |    2048 KB |\n",
            "|---------------------------------------------------------------------------|\n",
            "| Non-releasable memory |       0 B  |    2047 KB |    2110 KB |    2110 KB |\n",
            "|       from large pool |       0 B  |       0 KB |       0 KB |       0 KB |\n",
            "|       from small pool |       0 B  |    2047 KB |    2110 KB |    2110 KB |\n",
            "|---------------------------------------------------------------------------|\n",
            "| Allocations           |       0    |      32    |      32    |      32    |\n",
            "|       from large pool |       0    |       1    |       1    |       1    |\n",
            "|       from small pool |       0    |      31    |      31    |      31    |\n",
            "|---------------------------------------------------------------------------|\n",
            "| Active allocs         |       0    |      32    |      32    |      32    |\n",
            "|       from large pool |       0    |       1    |       1    |       1    |\n",
            "|       from small pool |       0    |      31    |      31    |      31    |\n",
            "|---------------------------------------------------------------------------|\n",
            "| GPU reserved segments |       0    |       2    |       2    |       2    |\n",
            "|       from large pool |       0    |       1    |       1    |       1    |\n",
            "|       from small pool |       0    |       1    |       1    |       1    |\n",
            "|---------------------------------------------------------------------------|\n",
            "| Non-releasable allocs |       0    |       2    |       2    |       2    |\n",
            "|       from large pool |       0    |       0    |       0    |       0    |\n",
            "|       from small pool |       0    |       2    |       2    |       2    |\n",
            "|---------------------------------------------------------------------------|\n",
            "| Oversize allocations  |       0    |       0    |       0    |       0    |\n",
            "|---------------------------------------------------------------------------|\n",
            "| Oversize GPU segments |       0    |       0    |       0    |       0    |\n",
            "|===========================================================================|\n",
            "\n"
          ]
        }
      ],
      "source": [
        "# model.load_state_dict(torch.load(drive+f\"model_13896134932304.pth\"))\n",
        "\n",
        "print(f\"Utilizando: {torch.cuda.get_device_name(torch.cuda.current_device())}\")\n",
        "torch.cuda.empty_cache()\n",
        "print(torch.cuda.memory_summary(device=None, abbreviated=False))"
      ]
    },
    {
      "cell_type": "code",
      "execution_count": null,
      "id": "cff90a72-c3bf-4219-a98f-3dc5265de323",
      "metadata": {
        "colab": {
          "base_uri": "https://localhost:8080/",
          "height": 910
        },
        "id": "cff90a72-c3bf-4219-a98f-3dc5265de323",
        "outputId": "be6340fa-1e09-4716-db9f-e1c34399e038"
      },
      "outputs": [],
      "source": [
        "from torch.optim import Adam\n",
        "\n",
        "learning_rate = 0.0001\n",
        "# Define the loss function with Classification Cross-Entropy loss and an optimizer with Adam optimizer\n",
        "loss_fn = nn.CrossEntropyLoss()\n",
        "optimizer = Adam(model.parameters(), lr=learning_rate, weight_decay=0.0001)\n",
        "\n",
        "epochs = 100\n",
        "best_val_acc = 0\n",
        "val_acc = 0\n",
        "for t in range(epochs):\n",
        "    print(f\"Epoch {t+1}\\n-------------------------------\")\n",
        "    train_loop(train_dataloader, model, loss_fn, optimizer)\n",
        "    val_acc = test_loop(test_dataloader, model, loss_fn)\n",
        "    best_val_acc = max(best_val_acc, val_acc)\n",
        "\n",
        "    if t+1 % 10 == 0:\n",
        "        torch.save(model.state_dict(),\n",
        "                   f\"./models/model_{time.monotonic_ns()}.pth\")\n",
        "\n",
        "    if best_val_acc - val_acc > 5:\n",
        "        print(\n",
        "            f\"Detenido proceso de training por error de validación, mejor accuracy obtenido: {best_val_acc}\")\n",
        "        torch.save(model.state_dict(),\n",
        "                   f\"./models/model_{time.monotonic_ns()}_last.pth\")\n",
        "        break\n",
        "\n",
        "else:\n",
        "    print(\"Finalizadas Epochs!\")\n",
        "torch.save(model.state_dict(), f\"./models/model_{time.monotonic_ns()}_last.pth\")"
      ]
    },
    {
      "cell_type": "code",
      "execution_count": null,
      "id": "nSonA8SYR_CA",
      "metadata": {
        "id": "nSonA8SYR_CA"
      },
      "outputs": [],
      "source": [
        "#@title Give me a name {display-mode: \"form\"}\n",
        "\n",
        "# This code will be hidden when the notebook is loaded."
      ]
    },
    {
      "cell_type": "code",
      "execution_count": null,
      "id": "85703e5f",
      "metadata": {},
      "outputs": [],
      "source": [
        "now = time.time()\n",
        "date_time = datetime.fromtimestamp(now)\n",
        "torch.save(model.state_dict(), f\"./models/model_{date_time.strftime('%m-%d_%H-%M').replace(' ','')}_manual.pth\")"
      ]
    },
    {
      "cell_type": "code",
      "execution_count": null,
      "id": "73439e46-b756-4012-bd09-ae344f14f63d",
      "metadata": {
        "id": "73439e46-b756-4012-bd09-ae344f14f63d"
      },
      "outputs": [],
      "source": [
        "torch.cuda.empty_cache() # PyTorch thing"
      ]
    },
    {
      "cell_type": "code",
      "execution_count": null,
      "id": "85e9645c-1d20-4654-8dc4-10e2eb84f2d6",
      "metadata": {
        "id": "85e9645c-1d20-4654-8dc4-10e2eb84f2d6"
      },
      "outputs": [],
      "source": [
        "import gc\n",
        "gc.collect() # Python thing"
      ]
    },
    {
      "cell_type": "code",
      "execution_count": 95,
      "id": "a4840d77",
      "metadata": {},
      "outputs": [],
      "source": [
        "def choose_file_from_folder(folder_path):\n",
        "    \"\"\"\n",
        "    Displays a menu to choose a file in a folder.\n",
        "\n",
        "    Args:\n",
        "        folder_path (str): The path to the folder.\n",
        "\n",
        "    Returns:\n",
        "        str: The path to the chosen file.\n",
        "    \"\"\"\n",
        "    files = glob.glob(os.path.join(folder_path, \"*\"))\n",
        "    file_menu = \"\\n\".join([f\"{i}. {file}\" for i, file in enumerate(files, start=1)])\n",
        "    print(f\"Please choose a file from the following options:\\n{file_menu}\")\n",
        "    choice = input(\"> \")\n",
        "    while not choice.isdigit() or int(choice) not in range(1, len(files) + 1):\n",
        "        print(\"Invalid choice. Please choose a valid option.\")\n",
        "        choice = input(\"> \")\n",
        "    return files[int(choice) - 1]"
      ]
    },
    {
      "cell_type": "code",
      "execution_count": 96,
      "id": "bde0c918-3686-4085-9f2b-5caba200cb88",
      "metadata": {
        "id": "bde0c918-3686-4085-9f2b-5caba200cb88"
      },
      "outputs": [
        {
          "name": "stdout",
          "output_type": "stream",
          "text": [
            "Please choose a file from the following options:\n",
            "1. ./models\\model_03-13_21-55_manual.pth\n",
            "2. ./models\\model_7014328000000manual.pth\n",
            "3. ./models\\model_8938375000000.pth\n",
            "4. ./models\\model_manual.pth\n"
          ]
        },
        {
          "data": {
            "text/plain": [
              "<All keys matched successfully>"
            ]
          },
          "execution_count": 96,
          "metadata": {},
          "output_type": "execute_result"
        }
      ],
      "source": [
        "model = Network()\n",
        "\n",
        "model.load_state_dict(torch.load(choose_file_from_folder(model_dir)))"
      ]
    },
    {
      "cell_type": "code",
      "execution_count": 97,
      "id": "5bd300f1-f7cc-40f3-a70f-f2b86b0df532",
      "metadata": {
        "id": "5bd300f1-f7cc-40f3-a70f-f2b86b0df532"
      },
      "outputs": [],
      "source": [
        "y_pred = []\n",
        "y_true = []\n",
        "\n",
        "# iterate over test data\n",
        "for inputs, labels in test_dataloader:\n",
        "        output = model(inputs) # Feed Network\n",
        "\n",
        "        output = (torch.max(torch.exp(output), 1)[1]).data.cpu().numpy()\n",
        "        y_pred.extend(output) # Save Prediction\n",
        "        \n",
        "        labels = labels.data.cpu().numpy()\n",
        "        y_true.extend(labels) # Save Truth"
      ]
    },
    {
      "cell_type": "code",
      "execution_count": 98,
      "id": "_Lovy0qCfDTj",
      "metadata": {
        "id": "_Lovy0qCfDTj"
      },
      "outputs": [
        {
          "name": "stdout",
          "output_type": "stream",
          "text": [
            "[[238  15  30  36  30  15  24  31]\n",
            " [ 24 214  18  69  14  33  16  41]\n",
            " [ 29   8 300  12  28  14   8  15]\n",
            " [ 23  19  13 288  25  12  13  26]\n",
            " [ 45   9  38  93 163  22  16  29]\n",
            " [ 21  21  19  54  24 229  28  25]\n",
            " [ 83  30  19  25  17  40 159  49]\n",
            " [ 32  19  11  51  20  27  24 237]]\n"
          ]
        },
        {
          "data": {
            "image/png": "[encoded data removed]",
            "text/plain": [
              "<Figure size 640x480 with 2 Axes>"
            ]
          },
          "metadata": {},
          "output_type": "display_data"
        }
      ],
      "source": [
        "# Calcular la matriz de confusión\n",
        "labels = [\"Burger\",\"Pollo\",\"Donut\",\"Fries\",\"HotDog\",\"Pizza\",\"Bocata\",\"Patata\"]\n",
        "conf_matrix = confusion_matrix(y_true, y_pred)\n",
        "print(conf_matrix)\n",
        "\n",
        "\n",
        "disp = ConfusionMatrixDisplay(confusion_matrix=conf_matrix, display_labels=labels)\n",
        "\n",
        "disp.plot(cmap='plasma')\n",
        "\n",
        "plt.show()"
      ]
    }
  ],
  "metadata": {
    "accelerator": "GPU",
    "colab": {
      "provenance": [],
      "toc_visible": true
    },
    "gpuClass": "standard",
    "kernelspec": {
      "display_name": "Python 3 (ipykernel)",
      "language": "python",
      "name": "python3"
    },
    "language_info": {
      "codemirror_mode": {
        "name": "ipython",
        "version": 3
      },
      "file_extension": ".py",
      "mimetype": "text/x-python",
      "name": "python",
      "nbconvert_exporter": "python",
      "pygments_lexer": "ipython3",
      "version": "3.9.13"
    }
  },
  "nbformat": 4,
  "nbformat_minor": 5
}
