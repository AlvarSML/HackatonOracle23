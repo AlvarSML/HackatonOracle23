{
  "cells": [
    {
      "cell_type": "code",
      "execution_count": 3,
      "id": "42avAvSg17by",
      "metadata": {
        "id": "42avAvSg17by"
      },
      "outputs": [],
      "source": [
        "# imports pytorch\n",
        "import torch\n",
        "\n",
        "\n",
        "XLA_USE_BF16=1"
      ]
    },
    {
      "cell_type": "code",
      "execution_count": 4,
      "id": "318d1165-92db-4612-a238-bb143178bf2a",
      "metadata": {
        "id": "318d1165-92db-4612-a238-bb143178bf2a"
      },
      "outputs": [],
      "source": [
        "import time\n",
        "from datetime import datetime\n",
        "import glob\n",
        "import pandas as pd\n",
        "import seaborn as sns\n",
        "from IPython.display import Image, display\n",
        "import os\n",
        "import torchvision.transforms as transforms\n",
        "from torch.utils.data import DataLoader\n",
        "from torch.utils.data import Dataset\n",
        "from PIL import Image as Img\n",
        "import matplotlib.pyplot as plt\n",
        "from torchvision.io import read_image\n",
        "from torchvision.datasets.utils import download_url\n",
        "import torch.nn as nn\n",
        "import torchvision\n",
        "import torch.nn.functional as F\n",
        "from torch.autograd import Variable\n",
        "from sklearn.metrics import confusion_matrix\n",
        "from sklearn.model_selection import train_test_split\n",
        "import numpy as np\n",
        "import torch.backends\n",
        "import zipfile\n",
        "import matplotlib.pyplot as plt\n",
        "from sklearn.datasets import make_classification\n",
        "from sklearn.metrics import confusion_matrix, ConfusionMatrixDisplay\n",
        "from sklearn.model_selection import train_test_split\n",
        "from sklearn.svm import SVC\n",
        "\n",
        "torch.backends.cudnn.enabled = False\n",
        "#CUDA_LAUNCH_BLOCKING=1."
      ]
    },
    {
      "cell_type": "markdown",
      "id": "wre_3M3H6hQR",
      "metadata": {
        "id": "wre_3M3H6hQR"
      },
      "source": [
        "# Nueva sección"
      ]
    },
    {
      "cell_type": "code",
      "execution_count": 5,
      "id": "Hy-8tyhp6i8g",
      "metadata": {
        "colab": {
          "base_uri": "https://localhost:8080/"
        },
        "id": "Hy-8tyhp6i8g",
        "outputId": "a7156ec5-eebe-41f8-e669-07e0202fa517"
      },
      "outputs": [],
      "source": [
        "dataset_url = r\"https://challenges-asset-files.s3.us-east-2.amazonaws.com/Events/Oracle+Liga+Uni/1r+Reto/1st_oracle_challenge.zip\"\n",
        "\n",
        "# Descargar dataset si no existe\n",
        "if not os.path.exists(r\"./dataset\"):\n",
        "    print(\">>>Descargando Datos\")\n",
        "    download_url(dataset_url, r\"./dataset\", \"data.zip\")\n",
        "    with zipfile.ZipFile(r\"./dataset/data.zip\") as zip_dataset:\n",
        "        print(\">>>Descomprimiendo Dataset\")\n",
        "        zip_dataset.extractall(r\"./dataset\")\n",
        "    os.remove(r\"./dataset/data.zip\")\n",
        "    os.rename(\"./dataset/imgs\",\"./dataset/all_imgs\")\n",
        "\n",
        "dataset_folder_path: str = r\"./dataset\"\n",
        "train_set_path: str = r\"./dataset/train.csv\"\n",
        "test_set_path: str = r\"./dataset/test_no_label.csv\""
      ]
    },
    {
      "cell_type": "code",
      "execution_count": 6,
      "id": "ebb83022-e2f5-41c9-aebf-e06a4593585f",
      "metadata": {
        "id": "ebb83022-e2f5-41c9-aebf-e06a4593585f"
      },
      "outputs": [
        {
          "data": {
            "text/plain": [
              "0"
            ]
          },
          "execution_count": 6,
          "metadata": {},
          "output_type": "execute_result"
        }
      ],
      "source": [
        "\n",
        "archivo_train = r\"./dataset/train.csv\"\n",
        "archivo_test = r\"./dataset/test_no_label.csv\"\n",
        "dir_imagenes = r\"./dataset/all_imgs/\"\n",
        "model_dir = r\"./models/\"\n",
        "torch.cuda.max_memory_allocated(0)"
      ]
    },
    {
      "cell_type": "code",
      "execution_count": 7,
      "id": "1f4d648b-32e8-446b-b3b9-132d927f4d45",
      "metadata": {
        "id": "1f4d648b-32e8-446b-b3b9-132d927f4d45"
      },
      "outputs": [],
      "source": [
        "\n",
        "dataset : pd.DataFrame = pd.read_csv(archivo_train, index_col=0)"
      ]
    },
    {
      "cell_type": "code",
      "execution_count": 8,
      "id": "bEo0tcDJ9va8",
      "metadata": {
        "id": "bEo0tcDJ9va8"
      },
      "outputs": [
        {
          "name": "stdout",
          "output_type": "stream",
          "text": [
            "                                                    path_img  label\n",
            "idx_train                                                          \n",
            "0          all_imgs/bc7696f4-1460-4d0b-a63d-f84b3be4da0f....      0\n",
            "1          all_imgs/f8d50663-60d8-4da5-a8b8-79f954aec503....      2\n",
            "2          all_imgs/51df0f29-758b-4741-ab74-a0ff8e21c044....      4\n",
            "3          all_imgs/f61b81d3-3b79-4162-b4d6-4f1b39518c4c....      0\n",
            "4          all_imgs/b21e0668-bd09-4794-9e90-da8ecffc4c1c....      0\n"
          ]
        }
      ],
      "source": [
        "print(dataset.head())"
      ]
    },
    {
      "cell_type": "code",
      "execution_count": 9,
      "id": "2f4b04c7-e386-4f22-8423-7a6178e9d96f",
      "metadata": {
        "colab": {
          "base_uri": "https://localhost:8080/"
        },
        "id": "2f4b04c7-e386-4f22-8423-7a6178e9d96f",
        "outputId": "c45d57e1-ccaa-4b02-db94-bc6299016bf7"
      },
      "outputs": [],
      "source": [
        "# Estratificar los dataset para que comprenda todas las clases por igual.\n",
        "train_dataset, val_dataset = train_test_split(\n",
        "    dataset, test_size=0.3, random_state=17)"
      ]
    },
    {
      "cell_type": "code",
      "execution_count": 10,
      "id": "3b111cd7-387f-420f-bc08-34ad9db1b813",
      "metadata": {
        "colab": {
          "base_uri": "https://localhost:8080/",
          "height": 112
        },
        "id": "3b111cd7-387f-420f-bc08-34ad9db1b813",
        "outputId": "8834f494-0c18-4654-cfa3-0cd0a8618f5f"
      },
      "outputs": [
        {
          "data": {
            "text/html": [
              "<div>\n",
              "<style scoped>\n",
              "    .dataframe tbody tr th:only-of-type {\n",
              "        vertical-align: middle;\n",
              "    }\n",
              "\n",
              "    .dataframe tbody tr th {\n",
              "        vertical-align: top;\n",
              "    }\n",
              "\n",
              "    .dataframe thead th {\n",
              "        text-align: right;\n",
              "    }\n",
              "</style>\n",
              "<table border=\"1\" class=\"dataframe\">\n",
              "  <thead>\n",
              "    <tr style=\"text-align: right;\">\n",
              "      <th></th>\n",
              "      <th>path_img</th>\n",
              "      <th>label</th>\n",
              "    </tr>\n",
              "    <tr>\n",
              "      <th>idx_train</th>\n",
              "      <th></th>\n",
              "      <th></th>\n",
              "    </tr>\n",
              "  </thead>\n",
              "  <tbody>\n",
              "    <tr>\n",
              "      <th>0</th>\n",
              "      <td>all_imgs/bc7696f4-1460-4d0b-a63d-f84b3be4da0f....</td>\n",
              "      <td>0</td>\n",
              "    </tr>\n",
              "  </tbody>\n",
              "</table>\n",
              "</div>"
            ],
            "text/plain": [
              "                                                    path_img  label\n",
              "idx_train                                                          \n",
              "0          all_imgs/bc7696f4-1460-4d0b-a63d-f84b3be4da0f....      0"
            ]
          },
          "execution_count": 10,
          "metadata": {},
          "output_type": "execute_result"
        }
      ],
      "source": [
        "dataset[:1]"
      ]
    },
    {
      "cell_type": "code",
      "execution_count": 11,
      "id": "7956c142-b6ea-458e-8bb7-8e3f16b73381",
      "metadata": {
        "colab": {
          "base_uri": "https://localhost:8080/",
          "height": 387
        },
        "id": "7956c142-b6ea-458e-8bb7-8e3f16b73381",
        "outputId": "16914fe7-babb-4bd4-b1a1-5f3c1d8899f9"
      },
      "outputs": [
        {
          "data": {
            "text/plain": [
              "<seaborn.axisgrid.FacetGrid at 0x1d034a22730>"
            ]
          },
          "execution_count": 11,
          "metadata": {},
          "output_type": "execute_result"
        },
        {
          "data": {
            "image/png": "[encoded data removed]",
            "text/plain": [
              "<Figure size 500x500 with 1 Axes>"
            ]
          },
          "metadata": {},
          "output_type": "display_data"
        }
      ],
      "source": [
        "sns.displot(dataset.label)"
      ]
    },
    {
      "cell_type": "code",
      "execution_count": 12,
      "id": "912b572b-1ad6-4e90-8f4e-20574d917356",
      "metadata": {
        "colab": {
          "base_uri": "https://localhost:8080/"
        },
        "id": "912b572b-1ad6-4e90-8f4e-20574d917356",
        "outputId": "9f9655c5-a54f-4d72-df8d-b1ed2a51605e"
      },
      "outputs": [
        {
          "data": {
            "text/plain": [
              "<torch._C.Generator at 0x1d03b5d5bb0>"
            ]
          },
          "execution_count": 12,
          "metadata": {},
          "output_type": "execute_result"
        }
      ],
      "source": [
        "torch.manual_seed(17)"
      ]
    },
    {
      "cell_type": "code",
      "execution_count": 13,
      "id": "a60d4a3a-bc79-47f1-9040-06f8e4140b46",
      "metadata": {
        "id": "a60d4a3a-bc79-47f1-9040-06f8e4140b46"
      },
      "outputs": [],
      "source": [
        "class ComidasDataset(Dataset):\n",
        "    def __init__(self, annotations_file : pd.DataFrame, transform=None, target_transform=None):\n",
        "        self.img_labels = annotations_file\n",
        "        self.transform = transform\n",
        "        self.target_transform = target_transform\n",
        "\n",
        "    def __len__(self):\n",
        "        return len(self.img_labels)\n",
        "\n",
        "    def __getitem__(self, idx):\n",
        "        # img_path = os.path.join(self.img_dir, self.img_labels.iloc[idx, 0])\n",
        "        img_path = self.img_labels.iloc[idx, 0]\n",
        "        img_path = dir_imagenes + os.path.basename(img_path)\n",
        "        image = Img.open(img_path).convert('RGB')\n",
        "        label = self.img_labels.iloc[idx, 1]\n",
        "        if self.transform:\n",
        "            image = self.transform(image)\n",
        "        if self.target_transform:\n",
        "            label = self.target_transform(label)\n",
        "\n",
        "        return image, label"
      ]
    },
    {
      "cell_type": "code",
      "execution_count": 14,
      "id": "9412a324-39dc-42b8-8c6a-36b5c713ce68",
      "metadata": {
        "id": "9412a324-39dc-42b8-8c6a-36b5c713ce68"
      },
      "outputs": [],
      "source": [
        "transform = transforms.Compose([\n",
        "    transforms.Resize(size=(400,400)),\n",
        "    transforms.RandomResizedCrop(300),\n",
        "    transforms.ToTensor(),\n",
        "    transforms.RandomHorizontalFlip()\n",
        "])"
      ]
    },
    {
      "cell_type": "code",
      "execution_count": 15,
      "id": "1aff671c-35b1-4d71-bb27-06fc4588d8d9",
      "metadata": {
        "id": "1aff671c-35b1-4d71-bb27-06fc4588d8d9"
      },
      "outputs": [],
      "source": [
        "dat_train = ComidasDataset( train_dataset, transform=transform )\n",
        "dat_test = ComidasDataset( val_dataset, transform=transform )"
      ]
    },
    {
      "cell_type": "code",
      "execution_count": 16,
      "id": "bfeff77d-858e-41d1-acf2-7dc2290b0717",
      "metadata": {
        "id": "bfeff77d-858e-41d1-acf2-7dc2290b0717"
      },
      "outputs": [],
      "source": [
        "\"\"\" Muy importante:\n",
        "    Aqui se decide el batch size, que despues se incluye en la capa lineal\n",
        "\"\"\"\n",
        "train_dataloader = DataLoader(dat_train, batch_size=10, shuffle=True)\n",
        "test_dataloader = DataLoader(dat_test, batch_size=10, shuffle=True)"
      ]
    },
    {
      "cell_type": "code",
      "execution_count": 17,
      "id": "63539039-3c6a-4cbd-a1a1-91c7d197b213",
      "metadata": {
        "id": "63539039-3c6a-4cbd-a1a1-91c7d197b213"
      },
      "outputs": [],
      "source": [
        "# base de rnn sacada de https://learn.microsoft.com/en-us/windows/ai/windows-ml/tutorials/pytorch-train-model\n",
        "\n",
        "\n",
        "# Define a convolution neural network\n",
        "# Variotanal autoencoder ?\n",
        "class Network(nn.Module):\n",
        "    def __init__(self):\n",
        "        super(Network, self).__init__()\n",
        "        # se han usadp kernels de 3x3 para no complicar los calculos de dimensiones\n",
        "        \n",
        "        # in_channes = 3 colores (RGB)\n",
        "        # out_channes = salidad de la convolucion (3*4)? \n",
        "        # kernes_size = tamaño de la cuadricula de convolucion\n",
        "        # stride = pasos que se mueve la convolucion\n",
        "        # padding = bode generado para no perder features en los extremos\n",
        "        # Sacal un featuremap de 12 canales: [batchx12x512x512}\n",
        "        self.conv1 = nn.Conv2d(in_channels=3, out_channels=12, kernel_size=5, stride=1, padding=2)\n",
        "        self.bn1 = nn.BatchNorm2d(12)\n",
        "\n",
        "        self.conv2 = nn.Conv2d(in_channels=12, out_channels=12, kernel_size=5, stride=1, padding=2)\n",
        "        self.bn2 = nn.BatchNorm2d(12)\n",
        "        # max pool reduce las dimensiones del featuremp\n",
        "        # salida = [batchx12x64x64]\n",
        "        self.pool = nn.MaxPool2d(2, 2)\n",
        "\n",
        "        # salida = [batchx24x64x64]\n",
        "        self.conv4 = nn.Conv2d(in_channels=12, out_channels=24, kernel_size=3, stride=1, padding=1)\n",
        "        self.bn4 = nn.BatchNorm2d(24)\n",
        "        \n",
        "        # salida = [batchx24x64x64]\n",
        "        self.conv5 = nn.Conv2d(in_channels=24, out_channels=24, kernel_size=3, stride=1, padding=1)\n",
        "        self.bn5 = nn.BatchNorm2d(24)\n",
        "\n",
        "        #test, no se usa en el resultado\n",
        "        self.flat = nn.Flatten()\n",
        "\n",
        "        self.fc2 = nn.Linear(24*150*150, 128)\n",
        "        self.fc1 = nn.Linear(128, 8)\n",
        "        \n",
        "        \n",
        "        \n",
        "    def forward(self, input):\n",
        "        # fase 1 se pasa el output de la convolucion a BatchNorm y a ReLu\n",
        "        output = F.relu(self.bn1(self.conv1(input)))\n",
        "        output = F.relu(self.bn2(self.conv2(output)))\n",
        "        output = self.pool(output)\n",
        "        output = F.relu(self.bn4(self.conv4(output)))\n",
        "        output = F.relu(self.bn5(self.conv5(output)))\n",
        "        #print(output.size())\n",
        "        output = output.view(-1, 24*150*150)\n",
        "        #print(output.size())\n",
        "        output = self.fc2(output)\n",
        "        output = self.fc1(output)\n",
        "        return output\n",
        "\n",
        "\n",
        "# Instantiate a neural network model \n",
        "model = Network()"
      ]
    },
    {
      "cell_type": "code",
      "execution_count": 18,
      "id": "14b79b8a-7713-42c2-8f65-72f4075eda08",
      "metadata": {
        "colab": {
          "base_uri": "https://localhost:8080/"
        },
        "id": "14b79b8a-7713-42c2-8f65-72f4075eda08",
        "outputId": "769f94e1-62b2-4d9d-dd23-d64350b6e7ce"
      },
      "outputs": [
        {
          "name": "stdout",
          "output_type": "stream",
          "text": [
            "Using cuda:0: --> NVIDIA GeForce RTX 3050 Ti Laptop GPU device\n"
          ]
        }
      ],
      "source": [
        "device = device = torch.device(\"cuda:0\" if torch.cuda.is_available() else \"cpu\")\n",
        "print(f\"Using {device}: --> {torch.cuda.get_device_name(device)} device\")"
      ]
    },
    {
      "cell_type": "code",
      "execution_count": 19,
      "id": "abc4b0bf-78f5-4a29-babe-9b5e4252c072",
      "metadata": {
        "id": "abc4b0bf-78f5-4a29-babe-9b5e4252c072"
      },
      "outputs": [],
      "source": [
        "# Funciones base sacadas de https://pytorch.org/tutorials/beginner/basics/optimization_tutorial.html\n",
        "def train_loop(dataloader, model, loss_fn, optimizer):\n",
        "    best_accuracy = 0.0\n",
        "    \n",
        "    # Define your execution device\n",
        "    device = torch.device(\"cuda:0\" if torch.cuda.is_available() else \"cpu\")\n",
        "    # device = xm.xla_device()\n",
        "    print(\"The model will be running on\", device, \"device\")\n",
        "    # Convert model parameters and buffers to CPU or Cuda\n",
        "    model = model.to(device)\n",
        "    size = len(dataloader.dataset)\n",
        "\n",
        "    for batch, (images, label) in enumerate(dataloader):\n",
        "        # get the inputs\n",
        "        #X = Variable(torch.tensor(images))\n",
        "        images = images.to(device)\n",
        "        y = Variable(label.to(device))\n",
        "\n",
        "        # Compute prediction and loss\n",
        "        pred = model(images)\n",
        "        loss = loss_fn(pred, y)\n",
        "\n",
        "        # Backpropagation\n",
        "        optimizer.zero_grad()\n",
        "        loss.backward()\n",
        "        optimizer.step()\n",
        "\n",
        "        # print(batch)\n",
        "        # print cada 2 batches = 2 * 1024 = 2048 imagenes\n",
        "        if batch % 5 == 0:\n",
        "            loss, current = loss.item(), (batch + 1) * len(images)\n",
        "            print(f\"loss: {loss:>7f}  [{current:>5d}/{size:>5d}]\")\n",
        "\n",
        "\n",
        "def test_loop(dataloader, model, loss_fn):\n",
        "    size = len(dataloader.dataset)\n",
        "    num_batches = len(dataloader)\n",
        "    test_loss, correct = 0, 0\n",
        "\n",
        "    # Define your execution device\n",
        "    device = torch.device(\"cuda:0\" if torch.cuda.is_available() else \"cpu\")\n",
        "    # device = xm.xla_device()\n",
        "\n",
        "    # matriz de confusion\n",
        "    y_pred = []\n",
        "    y_true = []\n",
        "\n",
        "\n",
        "    with torch.no_grad():\n",
        "        for X, y in dataloader:\n",
        "            X = X.to(device)\n",
        "            y = y.to(device)\n",
        "\n",
        "            pred = model(X)\n",
        "            '''\n",
        "            output = (torch.max(torch.exp(pred), 1)[1]).data.cpu().numpy()\n",
        "\n",
        "            y_pred.extend(output) # Save Prediction\n",
        "        \n",
        "            labels = labels.data.cpu().numpy()\n",
        "            y_true.extend(labels) # Save Truth\n",
        "            '''\n",
        "            test_loss += loss_fn(pred, y).item()\n",
        "            correct += (pred.argmax(1) == y).type(torch.float).sum().item()\n",
        "    '''\n",
        "    conf_matrix = confusion_matrix(y_true, y_pred)\n",
        "    print(\"Confusion\")\n",
        "    print(conf_matrix)\n",
        "    '''\n",
        "\n",
        "    test_loss /= num_batches\n",
        "    correct /= size\n",
        "    print(f\"Test Error: \\n Accuracy: {(100*correct):>0.1f}%, Avg loss: {test_loss:>8f} \\n\")\n",
        "    return (100*correct)"
      ]
    },
    {
      "cell_type": "code",
      "execution_count": 20,
      "id": "lOFKujTChKPg",
      "metadata": {
        "id": "lOFKujTChKPg"
      },
      "outputs": [
        {
          "name": "stdout",
          "output_type": "stream",
          "text": [
            "Utilizando: NVIDIA GeForce RTX 3050 Ti Laptop GPU\n",
            "|===========================================================================|\n",
            "|                  PyTorch CUDA memory summary, device ID 0                 |\n",
            "|---------------------------------------------------------------------------|\n",
            "|            CUDA OOMs: 0            |        cudaMalloc retries: 0         |\n",
            "|===========================================================================|\n",
            "|        Metric         | Cur Usage  | Peak Usage | Tot Alloc  | Tot Freed  |\n",
            "|---------------------------------------------------------------------------|\n",
            "| Allocated memory      |       0 B  |       0 B  |       0 B  |       0 B  |\n",
            "|       from large pool |       0 B  |       0 B  |       0 B  |       0 B  |\n",
            "|       from small pool |       0 B  |       0 B  |       0 B  |       0 B  |\n",
            "|---------------------------------------------------------------------------|\n",
            "| Active memory         |       0 B  |       0 B  |       0 B  |       0 B  |\n",
            "|       from large pool |       0 B  |       0 B  |       0 B  |       0 B  |\n",
            "|       from small pool |       0 B  |       0 B  |       0 B  |       0 B  |\n",
            "|---------------------------------------------------------------------------|\n",
            "| GPU reserved memory   |       0 B  |       0 B  |       0 B  |       0 B  |\n",
            "|       from large pool |       0 B  |       0 B  |       0 B  |       0 B  |\n",
            "|       from small pool |       0 B  |       0 B  |       0 B  |       0 B  |\n",
            "|---------------------------------------------------------------------------|\n",
            "| Non-releasable memory |       0 B  |       0 B  |       0 B  |       0 B  |\n",
            "|       from large pool |       0 B  |       0 B  |       0 B  |       0 B  |\n",
            "|       from small pool |       0 B  |       0 B  |       0 B  |       0 B  |\n",
            "|---------------------------------------------------------------------------|\n",
            "| Allocations           |       0    |       0    |       0    |       0    |\n",
            "|       from large pool |       0    |       0    |       0    |       0    |\n",
            "|       from small pool |       0    |       0    |       0    |       0    |\n",
            "|---------------------------------------------------------------------------|\n",
            "| Active allocs         |       0    |       0    |       0    |       0    |\n",
            "|       from large pool |       0    |       0    |       0    |       0    |\n",
            "|       from small pool |       0    |       0    |       0    |       0    |\n",
            "|---------------------------------------------------------------------------|\n",
            "| GPU reserved segments |       0    |       0    |       0    |       0    |\n",
            "|       from large pool |       0    |       0    |       0    |       0    |\n",
            "|       from small pool |       0    |       0    |       0    |       0    |\n",
            "|---------------------------------------------------------------------------|\n",
            "| Non-releasable allocs |       0    |       0    |       0    |       0    |\n",
            "|       from large pool |       0    |       0    |       0    |       0    |\n",
            "|       from small pool |       0    |       0    |       0    |       0    |\n",
            "|---------------------------------------------------------------------------|\n",
            "| Oversize allocations  |       0    |       0    |       0    |       0    |\n",
            "|---------------------------------------------------------------------------|\n",
            "| Oversize GPU segments |       0    |       0    |       0    |       0    |\n",
            "|===========================================================================|\n",
            "\n"
          ]
        }
      ],
      "source": [
        "# model.load_state_dict(torch.load(drive+f\"model_13896134932304.pth\"))\n",
        "\n",
        "print(f\"Utilizando: {torch.cuda.get_device_name(torch.cuda.current_device())}\")\n",
        "torch.cuda.empty_cache()\n",
        "print(torch.cuda.memory_summary(device=None, abbreviated=False))"
      ]
    },
    {
      "cell_type": "code",
      "execution_count": 21,
      "id": "cff90a72-c3bf-4219-a98f-3dc5265de323",
      "metadata": {
        "colab": {
          "base_uri": "https://localhost:8080/",
          "height": 910
        },
        "id": "cff90a72-c3bf-4219-a98f-3dc5265de323",
        "outputId": "be6340fa-1e09-4716-db9f-e1c34399e038"
      },
      "outputs": [
        {
          "name": "stdout",
          "output_type": "stream",
          "text": [
            "Epoch 1\n",
            "-------------------------------\n",
            "The model will be running on cuda:0 device\n",
            "loss: 2.030154  [   10/ 7840]\n",
            "loss: 55.583027  [   60/ 7840]\n",
            "loss: 19.719257  [  110/ 7840]\n",
            "loss: 41.259422  [  160/ 7840]\n",
            "loss: 40.190872  [  210/ 7840]\n",
            "loss: 18.180050  [  260/ 7840]\n",
            "loss: 11.231912  [  310/ 7840]\n",
            "loss: 14.372993  [  360/ 7840]\n",
            "loss: 7.597508  [  410/ 7840]\n",
            "loss: 7.798669  [  460/ 7840]\n",
            "loss: 6.292581  [  510/ 7840]\n",
            "loss: 6.199161  [  560/ 7840]\n",
            "loss: 5.524920  [  610/ 7840]\n",
            "loss: 9.334468  [  660/ 7840]\n",
            "loss: 8.032272  [  710/ 7840]\n",
            "loss: 8.392095  [  760/ 7840]\n",
            "loss: 9.632499  [  810/ 7840]\n",
            "loss: 15.666008  [  860/ 7840]\n",
            "loss: 10.789672  [  910/ 7840]\n",
            "loss: 18.067959  [  960/ 7840]\n",
            "loss: 10.754961  [ 1010/ 7840]\n",
            "loss: 11.361251  [ 1060/ 7840]\n",
            "loss: 6.657749  [ 1110/ 7840]\n",
            "loss: 5.687778  [ 1160/ 7840]\n",
            "loss: 5.916574  [ 1210/ 7840]\n",
            "loss: 15.907097  [ 1260/ 7840]\n",
            "loss: 6.333326  [ 1310/ 7840]\n",
            "loss: 12.480158  [ 1360/ 7840]\n",
            "loss: 9.074301  [ 1410/ 7840]\n",
            "loss: 6.320093  [ 1460/ 7840]\n",
            "loss: 7.931379  [ 1510/ 7840]\n",
            "loss: 7.454710  [ 1560/ 7840]\n",
            "loss: 8.601323  [ 1610/ 7840]\n",
            "loss: 8.201900  [ 1660/ 7840]\n",
            "loss: 6.413718  [ 1710/ 7840]\n",
            "loss: 11.379742  [ 1760/ 7840]\n",
            "loss: 5.943153  [ 1810/ 7840]\n",
            "loss: 10.791021  [ 1860/ 7840]\n",
            "loss: 8.276442  [ 1910/ 7840]\n",
            "loss: 8.264060  [ 1960/ 7840]\n",
            "loss: 6.249625  [ 2010/ 7840]\n",
            "loss: 8.457035  [ 2060/ 7840]\n",
            "loss: 4.582288  [ 2110/ 7840]\n",
            "loss: 7.790641  [ 2160/ 7840]\n",
            "loss: 5.667540  [ 2210/ 7840]\n",
            "loss: 7.851168  [ 2260/ 7840]\n"
          ]
        },
        {
          "name": "stderr",
          "output_type": "stream",
          "text": [
            "c:\\Users\\mario\\anaconda3\\lib\\site-packages\\PIL\\Image.py:959: UserWarning: Palette images with Transparency expressed in bytes should be converted to RGBA images\n",
            "  warnings.warn(\n"
          ]
        },
        {
          "name": "stdout",
          "output_type": "stream",
          "text": [
            "loss: 8.008787  [ 2310/ 7840]\n",
            "loss: 8.453001  [ 2360/ 7840]\n",
            "loss: 3.393122  [ 2410/ 7840]\n",
            "loss: 6.644440  [ 2460/ 7840]\n",
            "loss: 7.797815  [ 2510/ 7840]\n",
            "loss: 12.676008  [ 2560/ 7840]\n",
            "loss: 6.649460  [ 2610/ 7840]\n",
            "loss: 3.627411  [ 2660/ 7840]\n",
            "loss: 7.315755  [ 2710/ 7840]\n",
            "loss: 5.449124  [ 2760/ 7840]\n",
            "loss: 4.425667  [ 2810/ 7840]\n",
            "loss: 3.943968  [ 2860/ 7840]\n",
            "loss: 5.287599  [ 2910/ 7840]\n",
            "loss: 9.225179  [ 2960/ 7840]\n",
            "loss: 9.079849  [ 3010/ 7840]\n",
            "loss: 7.258999  [ 3060/ 7840]\n",
            "loss: 5.922606  [ 3110/ 7840]\n",
            "loss: 4.918963  [ 3160/ 7840]\n",
            "loss: 8.362165  [ 3210/ 7840]\n",
            "loss: 7.454967  [ 3260/ 7840]\n",
            "loss: 3.831765  [ 3310/ 7840]\n",
            "loss: 4.469629  [ 3360/ 7840]\n",
            "loss: 6.252490  [ 3410/ 7840]\n",
            "loss: 7.858533  [ 3460/ 7840]\n",
            "loss: 4.767261  [ 3510/ 7840]\n",
            "loss: 3.151184  [ 3560/ 7840]\n",
            "loss: 2.769297  [ 3610/ 7840]\n",
            "loss: 4.347912  [ 3660/ 7840]\n",
            "loss: 4.429357  [ 3710/ 7840]\n",
            "loss: 6.025085  [ 3760/ 7840]\n",
            "loss: 3.704440  [ 3810/ 7840]\n",
            "loss: 4.149692  [ 3860/ 7840]\n",
            "loss: 3.206830  [ 3910/ 7840]\n",
            "loss: 4.201792  [ 3960/ 7840]\n",
            "loss: 1.935507  [ 4010/ 7840]\n",
            "loss: 3.743150  [ 4060/ 7840]\n",
            "loss: 3.917094  [ 4110/ 7840]\n",
            "loss: 3.627407  [ 4160/ 7840]\n",
            "loss: 2.301922  [ 4210/ 7840]\n",
            "loss: 3.547607  [ 4260/ 7840]\n",
            "loss: 3.133219  [ 4310/ 7840]\n",
            "loss: 5.732070  [ 4360/ 7840]\n",
            "loss: 5.726013  [ 4410/ 7840]\n",
            "loss: 3.471946  [ 4460/ 7840]\n",
            "loss: 3.813161  [ 4510/ 7840]\n",
            "loss: 6.142345  [ 4560/ 7840]\n",
            "loss: 3.858750  [ 4610/ 7840]\n",
            "loss: 2.908766  [ 4660/ 7840]\n",
            "loss: 5.858059  [ 4710/ 7840]\n",
            "loss: 5.609650  [ 4760/ 7840]\n",
            "loss: 5.270523  [ 4810/ 7840]\n",
            "loss: 1.977497  [ 4860/ 7840]\n",
            "loss: 8.446249  [ 4910/ 7840]\n",
            "loss: 4.222455  [ 4960/ 7840]\n",
            "loss: 2.271521  [ 5010/ 7840]\n",
            "loss: 5.361511  [ 5060/ 7840]\n",
            "loss: 2.503175  [ 5110/ 7840]\n",
            "loss: 5.213937  [ 5160/ 7840]\n",
            "loss: 2.685084  [ 5210/ 7840]\n",
            "loss: 6.097914  [ 5260/ 7840]\n",
            "loss: 2.080688  [ 5310/ 7840]\n",
            "loss: 2.218981  [ 5360/ 7840]\n",
            "loss: 2.837523  [ 5410/ 7840]\n",
            "loss: 8.630271  [ 5460/ 7840]\n",
            "loss: 5.121860  [ 5510/ 7840]\n",
            "loss: 3.496991  [ 5560/ 7840]\n",
            "loss: 4.981245  [ 5610/ 7840]\n",
            "loss: 3.123800  [ 5660/ 7840]\n",
            "loss: 2.445540  [ 5710/ 7840]\n",
            "loss: 5.192267  [ 5760/ 7840]\n",
            "loss: 3.715569  [ 5810/ 7840]\n",
            "loss: 4.121397  [ 5860/ 7840]\n",
            "loss: 5.512998  [ 5910/ 7840]\n",
            "loss: 3.915699  [ 5960/ 7840]\n",
            "loss: 3.473580  [ 6010/ 7840]\n",
            "loss: 1.771292  [ 6060/ 7840]\n",
            "loss: 4.320703  [ 6110/ 7840]\n",
            "loss: 4.012748  [ 6160/ 7840]\n",
            "loss: 2.454257  [ 6210/ 7840]\n",
            "loss: 4.887299  [ 6260/ 7840]\n",
            "loss: 1.935881  [ 6310/ 7840]\n",
            "loss: 7.339444  [ 6360/ 7840]\n",
            "loss: 3.861425  [ 6410/ 7840]\n",
            "loss: 4.630722  [ 6460/ 7840]\n",
            "loss: 4.123672  [ 6510/ 7840]\n",
            "loss: 4.404484  [ 6560/ 7840]\n",
            "loss: 2.423564  [ 6610/ 7840]\n",
            "loss: 4.586894  [ 6660/ 7840]\n",
            "loss: 3.205319  [ 6710/ 7840]\n",
            "loss: 2.238416  [ 6760/ 7840]\n",
            "loss: 2.814559  [ 6810/ 7840]\n",
            "loss: 2.572897  [ 6860/ 7840]\n",
            "loss: 3.263385  [ 6910/ 7840]\n",
            "loss: 2.736187  [ 6960/ 7840]\n",
            "loss: 2.339848  [ 7010/ 7840]\n",
            "loss: 2.272642  [ 7060/ 7840]\n",
            "loss: 1.371251  [ 7110/ 7840]\n",
            "loss: 2.543622  [ 7160/ 7840]\n",
            "loss: 2.723913  [ 7210/ 7840]\n",
            "loss: 1.767831  [ 7260/ 7840]\n",
            "loss: 3.742942  [ 7310/ 7840]\n",
            "loss: 1.736642  [ 7360/ 7840]\n",
            "loss: 1.653266  [ 7410/ 7840]\n",
            "loss: 2.163255  [ 7460/ 7840]\n",
            "loss: 3.511459  [ 7510/ 7840]\n",
            "loss: 3.155222  [ 7560/ 7840]\n",
            "loss: 3.044343  [ 7610/ 7840]\n",
            "loss: 5.003633  [ 7660/ 7840]\n",
            "loss: 3.057773  [ 7710/ 7840]\n",
            "loss: 3.245499  [ 7760/ 7840]\n",
            "loss: 3.626022  [ 7810/ 7840]\n",
            "Test Error: \n",
            " Accuracy: 22.6%, Avg loss: 5.573164 \n",
            "\n",
            "Epoch 2\n",
            "-------------------------------\n",
            "The model will be running on cuda:0 device\n",
            "loss: 3.995696  [   10/ 7840]\n",
            "loss: 2.211321  [   60/ 7840]\n",
            "loss: 2.458646  [  110/ 7840]\n",
            "loss: 4.219054  [  160/ 7840]\n",
            "loss: 2.373930  [  210/ 7840]\n",
            "loss: 3.016860  [  260/ 7840]\n",
            "loss: 2.188898  [  310/ 7840]\n",
            "loss: 1.635952  [  360/ 7840]\n",
            "loss: 2.227402  [  410/ 7840]\n"
          ]
        },
        {
          "ename": "KeyboardInterrupt",
          "evalue": "",
          "output_type": "error",
          "traceback": [
            "\u001b[1;31m---------------------------------------------------------------------------\u001b[0m",
            "\u001b[1;31mKeyboardInterrupt\u001b[0m                         Traceback (most recent call last)",
            "\u001b[1;32m~\\AppData\\Local\\Temp\\ipykernel_8544\\4010112434.py\u001b[0m in \u001b[0;36m<module>\u001b[1;34m\u001b[0m\n\u001b[0;32m     11\u001b[0m \u001b[1;32mfor\u001b[0m \u001b[0mt\u001b[0m \u001b[1;32min\u001b[0m \u001b[0mrange\u001b[0m\u001b[1;33m(\u001b[0m\u001b[0mepochs\u001b[0m\u001b[1;33m)\u001b[0m\u001b[1;33m:\u001b[0m\u001b[1;33m\u001b[0m\u001b[1;33m\u001b[0m\u001b[0m\n\u001b[0;32m     12\u001b[0m     \u001b[0mprint\u001b[0m\u001b[1;33m(\u001b[0m\u001b[1;34mf\"Epoch {t+1}\\n-------------------------------\"\u001b[0m\u001b[1;33m)\u001b[0m\u001b[1;33m\u001b[0m\u001b[1;33m\u001b[0m\u001b[0m\n\u001b[1;32m---> 13\u001b[1;33m     \u001b[0mtrain_loop\u001b[0m\u001b[1;33m(\u001b[0m\u001b[0mtrain_dataloader\u001b[0m\u001b[1;33m,\u001b[0m \u001b[0mmodel\u001b[0m\u001b[1;33m,\u001b[0m \u001b[0mloss_fn\u001b[0m\u001b[1;33m,\u001b[0m \u001b[0moptimizer\u001b[0m\u001b[1;33m)\u001b[0m\u001b[1;33m\u001b[0m\u001b[1;33m\u001b[0m\u001b[0m\n\u001b[0m\u001b[0;32m     14\u001b[0m     \u001b[0mval_acc\u001b[0m \u001b[1;33m=\u001b[0m \u001b[0mtest_loop\u001b[0m\u001b[1;33m(\u001b[0m\u001b[0mtest_dataloader\u001b[0m\u001b[1;33m,\u001b[0m \u001b[0mmodel\u001b[0m\u001b[1;33m,\u001b[0m \u001b[0mloss_fn\u001b[0m\u001b[1;33m)\u001b[0m\u001b[1;33m\u001b[0m\u001b[1;33m\u001b[0m\u001b[0m\n\u001b[0;32m     15\u001b[0m     \u001b[0mbest_val_acc\u001b[0m \u001b[1;33m=\u001b[0m \u001b[0mmax\u001b[0m\u001b[1;33m(\u001b[0m\u001b[0mbest_val_acc\u001b[0m\u001b[1;33m,\u001b[0m \u001b[0mval_acc\u001b[0m\u001b[1;33m)\u001b[0m\u001b[1;33m\u001b[0m\u001b[1;33m\u001b[0m\u001b[0m\n",
            "\u001b[1;32m~\\AppData\\Local\\Temp\\ipykernel_8544\\804344705.py\u001b[0m in \u001b[0;36mtrain_loop\u001b[1;34m(dataloader, model, loss_fn, optimizer)\u001b[0m\n\u001b[0;32m     11\u001b[0m     \u001b[0msize\u001b[0m \u001b[1;33m=\u001b[0m \u001b[0mlen\u001b[0m\u001b[1;33m(\u001b[0m\u001b[0mdataloader\u001b[0m\u001b[1;33m.\u001b[0m\u001b[0mdataset\u001b[0m\u001b[1;33m)\u001b[0m\u001b[1;33m\u001b[0m\u001b[1;33m\u001b[0m\u001b[0m\n\u001b[0;32m     12\u001b[0m \u001b[1;33m\u001b[0m\u001b[0m\n\u001b[1;32m---> 13\u001b[1;33m     \u001b[1;32mfor\u001b[0m \u001b[0mbatch\u001b[0m\u001b[1;33m,\u001b[0m \u001b[1;33m(\u001b[0m\u001b[0mimages\u001b[0m\u001b[1;33m,\u001b[0m \u001b[0mlabel\u001b[0m\u001b[1;33m)\u001b[0m \u001b[1;32min\u001b[0m \u001b[0menumerate\u001b[0m\u001b[1;33m(\u001b[0m\u001b[0mdataloader\u001b[0m\u001b[1;33m)\u001b[0m\u001b[1;33m:\u001b[0m\u001b[1;33m\u001b[0m\u001b[1;33m\u001b[0m\u001b[0m\n\u001b[0m\u001b[0;32m     14\u001b[0m         \u001b[1;31m# get the inputs\u001b[0m\u001b[1;33m\u001b[0m\u001b[1;33m\u001b[0m\u001b[0m\n\u001b[0;32m     15\u001b[0m         \u001b[1;31m#X = Variable(torch.tensor(images))\u001b[0m\u001b[1;33m\u001b[0m\u001b[1;33m\u001b[0m\u001b[0m\n",
            "\u001b[1;32mc:\\Users\\mario\\anaconda3\\lib\\site-packages\\torch\\utils\\data\\dataloader.py\u001b[0m in \u001b[0;36m__next__\u001b[1;34m(self)\u001b[0m\n\u001b[0;32m    626\u001b[0m                 \u001b[1;31m# TODO(https://github.com/pytorch/pytorch/issues/76750)\u001b[0m\u001b[1;33m\u001b[0m\u001b[1;33m\u001b[0m\u001b[0m\n\u001b[0;32m    627\u001b[0m                 \u001b[0mself\u001b[0m\u001b[1;33m.\u001b[0m\u001b[0m_reset\u001b[0m\u001b[1;33m(\u001b[0m\u001b[1;33m)\u001b[0m  \u001b[1;31m# type: ignore[call-arg]\u001b[0m\u001b[1;33m\u001b[0m\u001b[1;33m\u001b[0m\u001b[0m\n\u001b[1;32m--> 628\u001b[1;33m             \u001b[0mdata\u001b[0m \u001b[1;33m=\u001b[0m \u001b[0mself\u001b[0m\u001b[1;33m.\u001b[0m\u001b[0m_next_data\u001b[0m\u001b[1;33m(\u001b[0m\u001b[1;33m)\u001b[0m\u001b[1;33m\u001b[0m\u001b[1;33m\u001b[0m\u001b[0m\n\u001b[0m\u001b[0;32m    629\u001b[0m             \u001b[0mself\u001b[0m\u001b[1;33m.\u001b[0m\u001b[0m_num_yielded\u001b[0m \u001b[1;33m+=\u001b[0m \u001b[1;36m1\u001b[0m\u001b[1;33m\u001b[0m\u001b[1;33m\u001b[0m\u001b[0m\n\u001b[0;32m    630\u001b[0m             \u001b[1;32mif\u001b[0m \u001b[0mself\u001b[0m\u001b[1;33m.\u001b[0m\u001b[0m_dataset_kind\u001b[0m \u001b[1;33m==\u001b[0m \u001b[0m_DatasetKind\u001b[0m\u001b[1;33m.\u001b[0m\u001b[0mIterable\u001b[0m \u001b[1;32mand\u001b[0m\u001b[0;31m \u001b[0m\u001b[0;31m\\\u001b[0m\u001b[1;33m\u001b[0m\u001b[1;33m\u001b[0m\u001b[0m\n",
            "\u001b[1;32mc:\\Users\\mario\\anaconda3\\lib\\site-packages\\torch\\utils\\data\\dataloader.py\u001b[0m in \u001b[0;36m_next_data\u001b[1;34m(self)\u001b[0m\n\u001b[0;32m    669\u001b[0m     \u001b[1;32mdef\u001b[0m \u001b[0m_next_data\u001b[0m\u001b[1;33m(\u001b[0m\u001b[0mself\u001b[0m\u001b[1;33m)\u001b[0m\u001b[1;33m:\u001b[0m\u001b[1;33m\u001b[0m\u001b[1;33m\u001b[0m\u001b[0m\n\u001b[0;32m    670\u001b[0m         \u001b[0mindex\u001b[0m \u001b[1;33m=\u001b[0m \u001b[0mself\u001b[0m\u001b[1;33m.\u001b[0m\u001b[0m_next_index\u001b[0m\u001b[1;33m(\u001b[0m\u001b[1;33m)\u001b[0m  \u001b[1;31m# may raise StopIteration\u001b[0m\u001b[1;33m\u001b[0m\u001b[1;33m\u001b[0m\u001b[0m\n\u001b[1;32m--> 671\u001b[1;33m         \u001b[0mdata\u001b[0m \u001b[1;33m=\u001b[0m \u001b[0mself\u001b[0m\u001b[1;33m.\u001b[0m\u001b[0m_dataset_fetcher\u001b[0m\u001b[1;33m.\u001b[0m\u001b[0mfetch\u001b[0m\u001b[1;33m(\u001b[0m\u001b[0mindex\u001b[0m\u001b[1;33m)\u001b[0m  \u001b[1;31m# may raise StopIteration\u001b[0m\u001b[1;33m\u001b[0m\u001b[1;33m\u001b[0m\u001b[0m\n\u001b[0m\u001b[0;32m    672\u001b[0m         \u001b[1;32mif\u001b[0m \u001b[0mself\u001b[0m\u001b[1;33m.\u001b[0m\u001b[0m_pin_memory\u001b[0m\u001b[1;33m:\u001b[0m\u001b[1;33m\u001b[0m\u001b[1;33m\u001b[0m\u001b[0m\n\u001b[0;32m    673\u001b[0m             \u001b[0mdata\u001b[0m \u001b[1;33m=\u001b[0m \u001b[0m_utils\u001b[0m\u001b[1;33m.\u001b[0m\u001b[0mpin_memory\u001b[0m\u001b[1;33m.\u001b[0m\u001b[0mpin_memory\u001b[0m\u001b[1;33m(\u001b[0m\u001b[0mdata\u001b[0m\u001b[1;33m,\u001b[0m \u001b[0mself\u001b[0m\u001b[1;33m.\u001b[0m\u001b[0m_pin_memory_device\u001b[0m\u001b[1;33m)\u001b[0m\u001b[1;33m\u001b[0m\u001b[1;33m\u001b[0m\u001b[0m\n",
            "\u001b[1;32mc:\\Users\\mario\\anaconda3\\lib\\site-packages\\torch\\utils\\data\\_utils\\fetch.py\u001b[0m in \u001b[0;36mfetch\u001b[1;34m(self, possibly_batched_index)\u001b[0m\n\u001b[0;32m     56\u001b[0m                 \u001b[0mdata\u001b[0m \u001b[1;33m=\u001b[0m \u001b[0mself\u001b[0m\u001b[1;33m.\u001b[0m\u001b[0mdataset\u001b[0m\u001b[1;33m.\u001b[0m\u001b[0m__getitems__\u001b[0m\u001b[1;33m(\u001b[0m\u001b[0mpossibly_batched_index\u001b[0m\u001b[1;33m)\u001b[0m\u001b[1;33m\u001b[0m\u001b[1;33m\u001b[0m\u001b[0m\n\u001b[0;32m     57\u001b[0m             \u001b[1;32melse\u001b[0m\u001b[1;33m:\u001b[0m\u001b[1;33m\u001b[0m\u001b[1;33m\u001b[0m\u001b[0m\n\u001b[1;32m---> 58\u001b[1;33m                 \u001b[0mdata\u001b[0m \u001b[1;33m=\u001b[0m \u001b[1;33m[\u001b[0m\u001b[0mself\u001b[0m\u001b[1;33m.\u001b[0m\u001b[0mdataset\u001b[0m\u001b[1;33m[\u001b[0m\u001b[0midx\u001b[0m\u001b[1;33m]\u001b[0m \u001b[1;32mfor\u001b[0m \u001b[0midx\u001b[0m \u001b[1;32min\u001b[0m \u001b[0mpossibly_batched_index\u001b[0m\u001b[1;33m]\u001b[0m\u001b[1;33m\u001b[0m\u001b[1;33m\u001b[0m\u001b[0m\n\u001b[0m\u001b[0;32m     59\u001b[0m         \u001b[1;32melse\u001b[0m\u001b[1;33m:\u001b[0m\u001b[1;33m\u001b[0m\u001b[1;33m\u001b[0m\u001b[0m\n\u001b[0;32m     60\u001b[0m             \u001b[0mdata\u001b[0m \u001b[1;33m=\u001b[0m \u001b[0mself\u001b[0m\u001b[1;33m.\u001b[0m\u001b[0mdataset\u001b[0m\u001b[1;33m[\u001b[0m\u001b[0mpossibly_batched_index\u001b[0m\u001b[1;33m]\u001b[0m\u001b[1;33m\u001b[0m\u001b[1;33m\u001b[0m\u001b[0m\n",
            "\u001b[1;32mc:\\Users\\mario\\anaconda3\\lib\\site-packages\\torch\\utils\\data\\_utils\\fetch.py\u001b[0m in \u001b[0;36m<listcomp>\u001b[1;34m(.0)\u001b[0m\n\u001b[0;32m     56\u001b[0m                 \u001b[0mdata\u001b[0m \u001b[1;33m=\u001b[0m \u001b[0mself\u001b[0m\u001b[1;33m.\u001b[0m\u001b[0mdataset\u001b[0m\u001b[1;33m.\u001b[0m\u001b[0m__getitems__\u001b[0m\u001b[1;33m(\u001b[0m\u001b[0mpossibly_batched_index\u001b[0m\u001b[1;33m)\u001b[0m\u001b[1;33m\u001b[0m\u001b[1;33m\u001b[0m\u001b[0m\n\u001b[0;32m     57\u001b[0m             \u001b[1;32melse\u001b[0m\u001b[1;33m:\u001b[0m\u001b[1;33m\u001b[0m\u001b[1;33m\u001b[0m\u001b[0m\n\u001b[1;32m---> 58\u001b[1;33m                 \u001b[0mdata\u001b[0m \u001b[1;33m=\u001b[0m \u001b[1;33m[\u001b[0m\u001b[0mself\u001b[0m\u001b[1;33m.\u001b[0m\u001b[0mdataset\u001b[0m\u001b[1;33m[\u001b[0m\u001b[0midx\u001b[0m\u001b[1;33m]\u001b[0m \u001b[1;32mfor\u001b[0m \u001b[0midx\u001b[0m \u001b[1;32min\u001b[0m \u001b[0mpossibly_batched_index\u001b[0m\u001b[1;33m]\u001b[0m\u001b[1;33m\u001b[0m\u001b[1;33m\u001b[0m\u001b[0m\n\u001b[0m\u001b[0;32m     59\u001b[0m         \u001b[1;32melse\u001b[0m\u001b[1;33m:\u001b[0m\u001b[1;33m\u001b[0m\u001b[1;33m\u001b[0m\u001b[0m\n\u001b[0;32m     60\u001b[0m             \u001b[0mdata\u001b[0m \u001b[1;33m=\u001b[0m \u001b[0mself\u001b[0m\u001b[1;33m.\u001b[0m\u001b[0mdataset\u001b[0m\u001b[1;33m[\u001b[0m\u001b[0mpossibly_batched_index\u001b[0m\u001b[1;33m]\u001b[0m\u001b[1;33m\u001b[0m\u001b[1;33m\u001b[0m\u001b[0m\n",
            "\u001b[1;32m~\\AppData\\Local\\Temp\\ipykernel_8544\\1775717924.py\u001b[0m in \u001b[0;36m__getitem__\u001b[1;34m(self, idx)\u001b[0m\n\u001b[0;32m     15\u001b[0m         \u001b[0mlabel\u001b[0m \u001b[1;33m=\u001b[0m \u001b[0mself\u001b[0m\u001b[1;33m.\u001b[0m\u001b[0mimg_labels\u001b[0m\u001b[1;33m.\u001b[0m\u001b[0miloc\u001b[0m\u001b[1;33m[\u001b[0m\u001b[0midx\u001b[0m\u001b[1;33m,\u001b[0m \u001b[1;36m1\u001b[0m\u001b[1;33m]\u001b[0m\u001b[1;33m\u001b[0m\u001b[1;33m\u001b[0m\u001b[0m\n\u001b[0;32m     16\u001b[0m         \u001b[1;32mif\u001b[0m \u001b[0mself\u001b[0m\u001b[1;33m.\u001b[0m\u001b[0mtransform\u001b[0m\u001b[1;33m:\u001b[0m\u001b[1;33m\u001b[0m\u001b[1;33m\u001b[0m\u001b[0m\n\u001b[1;32m---> 17\u001b[1;33m             \u001b[0mimage\u001b[0m \u001b[1;33m=\u001b[0m \u001b[0mself\u001b[0m\u001b[1;33m.\u001b[0m\u001b[0mtransform\u001b[0m\u001b[1;33m(\u001b[0m\u001b[0mimage\u001b[0m\u001b[1;33m)\u001b[0m\u001b[1;33m\u001b[0m\u001b[1;33m\u001b[0m\u001b[0m\n\u001b[0m\u001b[0;32m     18\u001b[0m         \u001b[1;32mif\u001b[0m \u001b[0mself\u001b[0m\u001b[1;33m.\u001b[0m\u001b[0mtarget_transform\u001b[0m\u001b[1;33m:\u001b[0m\u001b[1;33m\u001b[0m\u001b[1;33m\u001b[0m\u001b[0m\n\u001b[0;32m     19\u001b[0m             \u001b[0mlabel\u001b[0m \u001b[1;33m=\u001b[0m \u001b[0mself\u001b[0m\u001b[1;33m.\u001b[0m\u001b[0mtarget_transform\u001b[0m\u001b[1;33m(\u001b[0m\u001b[0mlabel\u001b[0m\u001b[1;33m)\u001b[0m\u001b[1;33m\u001b[0m\u001b[1;33m\u001b[0m\u001b[0m\n",
            "\u001b[1;32mc:\\Users\\mario\\anaconda3\\lib\\site-packages\\torchvision\\transforms\\transforms.py\u001b[0m in \u001b[0;36m__call__\u001b[1;34m(self, img)\u001b[0m\n\u001b[0;32m     93\u001b[0m     \u001b[1;32mdef\u001b[0m \u001b[0m__call__\u001b[0m\u001b[1;33m(\u001b[0m\u001b[0mself\u001b[0m\u001b[1;33m,\u001b[0m \u001b[0mimg\u001b[0m\u001b[1;33m)\u001b[0m\u001b[1;33m:\u001b[0m\u001b[1;33m\u001b[0m\u001b[1;33m\u001b[0m\u001b[0m\n\u001b[0;32m     94\u001b[0m         \u001b[1;32mfor\u001b[0m \u001b[0mt\u001b[0m \u001b[1;32min\u001b[0m \u001b[0mself\u001b[0m\u001b[1;33m.\u001b[0m\u001b[0mtransforms\u001b[0m\u001b[1;33m:\u001b[0m\u001b[1;33m\u001b[0m\u001b[1;33m\u001b[0m\u001b[0m\n\u001b[1;32m---> 95\u001b[1;33m             \u001b[0mimg\u001b[0m \u001b[1;33m=\u001b[0m \u001b[0mt\u001b[0m\u001b[1;33m(\u001b[0m\u001b[0mimg\u001b[0m\u001b[1;33m)\u001b[0m\u001b[1;33m\u001b[0m\u001b[1;33m\u001b[0m\u001b[0m\n\u001b[0m\u001b[0;32m     96\u001b[0m         \u001b[1;32mreturn\u001b[0m \u001b[0mimg\u001b[0m\u001b[1;33m\u001b[0m\u001b[1;33m\u001b[0m\u001b[0m\n\u001b[0;32m     97\u001b[0m \u001b[1;33m\u001b[0m\u001b[0m\n",
            "\u001b[1;32mc:\\Users\\mario\\anaconda3\\lib\\site-packages\\torch\\nn\\modules\\module.py\u001b[0m in \u001b[0;36m_call_impl\u001b[1;34m(self, *input, **kwargs)\u001b[0m\n\u001b[0;32m   1192\u001b[0m         if not (self._backward_hooks or self._forward_hooks or self._forward_pre_hooks or _global_backward_hooks\n\u001b[0;32m   1193\u001b[0m                 or _global_forward_hooks or _global_forward_pre_hooks):\n\u001b[1;32m-> 1194\u001b[1;33m             \u001b[1;32mreturn\u001b[0m \u001b[0mforward_call\u001b[0m\u001b[1;33m(\u001b[0m\u001b[1;33m*\u001b[0m\u001b[0minput\u001b[0m\u001b[1;33m,\u001b[0m \u001b[1;33m**\u001b[0m\u001b[0mkwargs\u001b[0m\u001b[1;33m)\u001b[0m\u001b[1;33m\u001b[0m\u001b[1;33m\u001b[0m\u001b[0m\n\u001b[0m\u001b[0;32m   1195\u001b[0m         \u001b[1;31m# Do not call functions when jit is used\u001b[0m\u001b[1;33m\u001b[0m\u001b[1;33m\u001b[0m\u001b[0m\n\u001b[0;32m   1196\u001b[0m         \u001b[0mfull_backward_hooks\u001b[0m\u001b[1;33m,\u001b[0m \u001b[0mnon_full_backward_hooks\u001b[0m \u001b[1;33m=\u001b[0m \u001b[1;33m[\u001b[0m\u001b[1;33m]\u001b[0m\u001b[1;33m,\u001b[0m \u001b[1;33m[\u001b[0m\u001b[1;33m]\u001b[0m\u001b[1;33m\u001b[0m\u001b[1;33m\u001b[0m\u001b[0m\n",
            "\u001b[1;32mc:\\Users\\mario\\anaconda3\\lib\\site-packages\\torchvision\\transforms\\transforms.py\u001b[0m in \u001b[0;36mforward\u001b[1;34m(self, img)\u001b[0m\n\u001b[0;32m    344\u001b[0m             \u001b[0mPIL\u001b[0m \u001b[0mImage\u001b[0m \u001b[1;32mor\u001b[0m \u001b[0mTensor\u001b[0m\u001b[1;33m:\u001b[0m \u001b[0mRescaled\u001b[0m \u001b[0mimage\u001b[0m\u001b[1;33m.\u001b[0m\u001b[1;33m\u001b[0m\u001b[1;33m\u001b[0m\u001b[0m\n\u001b[0;32m    345\u001b[0m         \"\"\"\n\u001b[1;32m--> 346\u001b[1;33m         \u001b[1;32mreturn\u001b[0m \u001b[0mF\u001b[0m\u001b[1;33m.\u001b[0m\u001b[0mresize\u001b[0m\u001b[1;33m(\u001b[0m\u001b[0mimg\u001b[0m\u001b[1;33m,\u001b[0m \u001b[0mself\u001b[0m\u001b[1;33m.\u001b[0m\u001b[0msize\u001b[0m\u001b[1;33m,\u001b[0m \u001b[0mself\u001b[0m\u001b[1;33m.\u001b[0m\u001b[0minterpolation\u001b[0m\u001b[1;33m,\u001b[0m \u001b[0mself\u001b[0m\u001b[1;33m.\u001b[0m\u001b[0mmax_size\u001b[0m\u001b[1;33m,\u001b[0m \u001b[0mself\u001b[0m\u001b[1;33m.\u001b[0m\u001b[0mantialias\u001b[0m\u001b[1;33m)\u001b[0m\u001b[1;33m\u001b[0m\u001b[1;33m\u001b[0m\u001b[0m\n\u001b[0m\u001b[0;32m    347\u001b[0m \u001b[1;33m\u001b[0m\u001b[0m\n\u001b[0;32m    348\u001b[0m     \u001b[1;32mdef\u001b[0m \u001b[0m__repr__\u001b[0m\u001b[1;33m(\u001b[0m\u001b[0mself\u001b[0m\u001b[1;33m)\u001b[0m \u001b[1;33m->\u001b[0m \u001b[0mstr\u001b[0m\u001b[1;33m:\u001b[0m\u001b[1;33m\u001b[0m\u001b[1;33m\u001b[0m\u001b[0m\n",
            "\u001b[1;32mc:\\Users\\mario\\anaconda3\\lib\\site-packages\\torchvision\\transforms\\functional.py\u001b[0m in \u001b[0;36mresize\u001b[1;34m(img, size, interpolation, max_size, antialias)\u001b[0m\n\u001b[0;32m    472\u001b[0m             \u001b[0mwarnings\u001b[0m\u001b[1;33m.\u001b[0m\u001b[0mwarn\u001b[0m\u001b[1;33m(\u001b[0m\u001b[1;34m\"Anti-alias option is always applied for PIL Image input. Argument antialias is ignored.\"\u001b[0m\u001b[1;33m)\u001b[0m\u001b[1;33m\u001b[0m\u001b[1;33m\u001b[0m\u001b[0m\n\u001b[0;32m    473\u001b[0m         \u001b[0mpil_interpolation\u001b[0m \u001b[1;33m=\u001b[0m \u001b[0mpil_modes_mapping\u001b[0m\u001b[1;33m[\u001b[0m\u001b[0minterpolation\u001b[0m\u001b[1;33m]\u001b[0m\u001b[1;33m\u001b[0m\u001b[1;33m\u001b[0m\u001b[0m\n\u001b[1;32m--> 474\u001b[1;33m         \u001b[1;32mreturn\u001b[0m \u001b[0mF_pil\u001b[0m\u001b[1;33m.\u001b[0m\u001b[0mresize\u001b[0m\u001b[1;33m(\u001b[0m\u001b[0mimg\u001b[0m\u001b[1;33m,\u001b[0m \u001b[0msize\u001b[0m\u001b[1;33m=\u001b[0m\u001b[0moutput_size\u001b[0m\u001b[1;33m,\u001b[0m \u001b[0minterpolation\u001b[0m\u001b[1;33m=\u001b[0m\u001b[0mpil_interpolation\u001b[0m\u001b[1;33m)\u001b[0m\u001b[1;33m\u001b[0m\u001b[1;33m\u001b[0m\u001b[0m\n\u001b[0m\u001b[0;32m    475\u001b[0m \u001b[1;33m\u001b[0m\u001b[0m\n\u001b[0;32m    476\u001b[0m     \u001b[1;32mreturn\u001b[0m \u001b[0mF_t\u001b[0m\u001b[1;33m.\u001b[0m\u001b[0mresize\u001b[0m\u001b[1;33m(\u001b[0m\u001b[0mimg\u001b[0m\u001b[1;33m,\u001b[0m \u001b[0msize\u001b[0m\u001b[1;33m=\u001b[0m\u001b[0moutput_size\u001b[0m\u001b[1;33m,\u001b[0m \u001b[0minterpolation\u001b[0m\u001b[1;33m=\u001b[0m\u001b[0minterpolation\u001b[0m\u001b[1;33m.\u001b[0m\u001b[0mvalue\u001b[0m\u001b[1;33m,\u001b[0m \u001b[0mantialias\u001b[0m\u001b[1;33m=\u001b[0m\u001b[0mantialias\u001b[0m\u001b[1;33m)\u001b[0m\u001b[1;33m\u001b[0m\u001b[1;33m\u001b[0m\u001b[0m\n",
            "\u001b[1;32mc:\\Users\\mario\\anaconda3\\lib\\site-packages\\torchvision\\transforms\\functional_pil.py\u001b[0m in \u001b[0;36mresize\u001b[1;34m(img, size, interpolation)\u001b[0m\n\u001b[0;32m    250\u001b[0m         \u001b[1;32mraise\u001b[0m \u001b[0mTypeError\u001b[0m\u001b[1;33m(\u001b[0m\u001b[1;34mf\"Got inappropriate size arg: {size}\"\u001b[0m\u001b[1;33m)\u001b[0m\u001b[1;33m\u001b[0m\u001b[1;33m\u001b[0m\u001b[0m\n\u001b[0;32m    251\u001b[0m \u001b[1;33m\u001b[0m\u001b[0m\n\u001b[1;32m--> 252\u001b[1;33m     \u001b[1;32mreturn\u001b[0m \u001b[0mimg\u001b[0m\u001b[1;33m.\u001b[0m\u001b[0mresize\u001b[0m\u001b[1;33m(\u001b[0m\u001b[0mtuple\u001b[0m\u001b[1;33m(\u001b[0m\u001b[0msize\u001b[0m\u001b[1;33m[\u001b[0m\u001b[1;33m:\u001b[0m\u001b[1;33m:\u001b[0m\u001b[1;33m-\u001b[0m\u001b[1;36m1\u001b[0m\u001b[1;33m]\u001b[0m\u001b[1;33m)\u001b[0m\u001b[1;33m,\u001b[0m \u001b[0minterpolation\u001b[0m\u001b[1;33m)\u001b[0m\u001b[1;33m\u001b[0m\u001b[1;33m\u001b[0m\u001b[0m\n\u001b[0m\u001b[0;32m    253\u001b[0m \u001b[1;33m\u001b[0m\u001b[0m\n\u001b[0;32m    254\u001b[0m \u001b[1;33m\u001b[0m\u001b[0m\n",
            "\u001b[1;32mc:\\Users\\mario\\anaconda3\\lib\\site-packages\\PIL\\Image.py\u001b[0m in \u001b[0;36mresize\u001b[1;34m(self, size, resample, box, reducing_gap)\u001b[0m\n\u001b[0;32m   2080\u001b[0m                 )\n\u001b[0;32m   2081\u001b[0m \u001b[1;33m\u001b[0m\u001b[0m\n\u001b[1;32m-> 2082\u001b[1;33m         \u001b[1;32mreturn\u001b[0m \u001b[0mself\u001b[0m\u001b[1;33m.\u001b[0m\u001b[0m_new\u001b[0m\u001b[1;33m(\u001b[0m\u001b[0mself\u001b[0m\u001b[1;33m.\u001b[0m\u001b[0mim\u001b[0m\u001b[1;33m.\u001b[0m\u001b[0mresize\u001b[0m\u001b[1;33m(\u001b[0m\u001b[0msize\u001b[0m\u001b[1;33m,\u001b[0m \u001b[0mresample\u001b[0m\u001b[1;33m,\u001b[0m \u001b[0mbox\u001b[0m\u001b[1;33m)\u001b[0m\u001b[1;33m)\u001b[0m\u001b[1;33m\u001b[0m\u001b[1;33m\u001b[0m\u001b[0m\n\u001b[0m\u001b[0;32m   2083\u001b[0m \u001b[1;33m\u001b[0m\u001b[0m\n\u001b[0;32m   2084\u001b[0m     \u001b[1;32mdef\u001b[0m \u001b[0mreduce\u001b[0m\u001b[1;33m(\u001b[0m\u001b[0mself\u001b[0m\u001b[1;33m,\u001b[0m \u001b[0mfactor\u001b[0m\u001b[1;33m,\u001b[0m \u001b[0mbox\u001b[0m\u001b[1;33m=\u001b[0m\u001b[1;32mNone\u001b[0m\u001b[1;33m)\u001b[0m\u001b[1;33m:\u001b[0m\u001b[1;33m\u001b[0m\u001b[1;33m\u001b[0m\u001b[0m\n",
            "\u001b[1;31mKeyboardInterrupt\u001b[0m: "
          ]
        }
      ],
      "source": [
        "from torch.optim import Adam\n",
        "\n",
        "learning_rate = 0.0001\n",
        "# Define the loss function with Classification Cross-Entropy loss and an optimizer with Adam optimizer\n",
        "loss_fn = nn.CrossEntropyLoss()\n",
        "optimizer = Adam(model.parameters(), lr=learning_rate, weight_decay=0.0001)\n",
        "\n",
        "epochs = 100\n",
        "best_val_acc = 0\n",
        "val_acc = 0\n",
        "for t in range(epochs):\n",
        "    print(f\"Epoch {t+1}\\n-------------------------------\")\n",
        "    train_loop(train_dataloader, model, loss_fn, optimizer)\n",
        "    val_acc = test_loop(test_dataloader, model, loss_fn)\n",
        "    best_val_acc = max(best_val_acc, val_acc)\n",
        "\n",
        "    if t+1 % 10 == 0:\n",
        "        torch.save(model.state_dict(),\n",
        "                   f\"./models/model_{time.monotonic_ns()}.pth\")\n",
        "\n",
        "    if best_val_acc - val_acc > 5:\n",
        "        print(\n",
        "            f\"Detenido proceso de training por error de validación, mejor accuracy obtenido: {best_val_acc}\")\n",
        "        torch.save(model.state_dict(),\n",
        "                   f\"./models/model_{time.monotonic_ns()}_last.pth\")\n",
        "        break\n",
        "\n",
        "else:\n",
        "    print(\"Finalizadas Epochs!\")\n",
        "torch.save(model.state_dict(), f\"./models/model_{time.monotonic_ns()}_last.pth\")"
      ]
    },
    {
      "cell_type": "code",
      "execution_count": null,
      "id": "nSonA8SYR_CA",
      "metadata": {
        "id": "nSonA8SYR_CA"
      },
      "outputs": [],
      "source": [
        "#@title Give me a name {display-mode: \"form\"}\n",
        "\n",
        "# This code will be hidden when the notebook is loaded."
      ]
    },
    {
      "cell_type": "code",
      "execution_count": 44,
      "id": "85703e5f",
      "metadata": {},
      "outputs": [],
      "source": [
        "now = time.time()\n",
        "date_time = datetime.fromtimestamp(now)\n",
        "torch.save(model.state_dict(), f\"./models/model_{date_time.strftime('%m-%d_%H-%M').replace(' ','')}_manual.pth\")"
      ]
    },
    {
      "cell_type": "code",
      "execution_count": null,
      "id": "73439e46-b756-4012-bd09-ae344f14f63d",
      "metadata": {
        "id": "73439e46-b756-4012-bd09-ae344f14f63d"
      },
      "outputs": [],
      "source": [
        "torch.cuda.empty_cache() # PyTorch thing"
      ]
    },
    {
      "cell_type": "code",
      "execution_count": null,
      "id": "85e9645c-1d20-4654-8dc4-10e2eb84f2d6",
      "metadata": {
        "id": "85e9645c-1d20-4654-8dc4-10e2eb84f2d6"
      },
      "outputs": [],
      "source": [
        "import gc\n",
        "gc.collect() # Python thing"
      ]
    },
    {
      "cell_type": "code",
      "execution_count": 46,
      "id": "a4840d77",
      "metadata": {},
      "outputs": [],
      "source": [
        "def choose_file_from_folder(folder_path):\n",
        "    \"\"\"\n",
        "    Displays a menu to choose a file in a folder.\n",
        "\n",
        "    Args:\n",
        "        folder_path (str): The path to the folder.\n",
        "\n",
        "    Returns:\n",
        "        str: The path to the chosen file.\n",
        "    \"\"\"\n",
        "    files = glob.glob(os.path.join(folder_path, \"*\"))\n",
        "    file_menu = \"\\n\".join([f\"{i}. {file}\" for i, file in enumerate(files, start=1)])\n",
        "    print(f\"Please choose a file from the following options:\\n{file_menu}\")\n",
        "    choice = input(\"> \")\n",
        "    while not choice.isdigit() or int(choice) not in range(1, len(files) + 1):\n",
        "        print(\"Invalid choice. Please choose a valid option.\")\n",
        "        choice = input(\"> \")\n",
        "    return files[int(choice) - 1]"
      ]
    },
    {
      "cell_type": "code",
      "execution_count": 60,
      "id": "bde0c918-3686-4085-9f2b-5caba200cb88",
      "metadata": {
        "id": "bde0c918-3686-4085-9f2b-5caba200cb88"
      },
      "outputs": [
        {
          "name": "stdout",
          "output_type": "stream",
          "text": [
            "Please choose a file from the following options:\n",
            "1. ./models\\model_03-13_21-55_manual.pth\n",
            "2. ./models\\model_7014328000000manual.pth\n",
            "3. ./models\\model_8938375000000.pth\n",
            "4. ./models\\model_manual.pth\n"
          ]
        },
        {
          "data": {
            "text/plain": [
              "<All keys matched successfully>"
            ]
          },
          "execution_count": 60,
          "metadata": {},
          "output_type": "execute_result"
        }
      ],
      "source": [
        "model = Network()\n",
        "\n",
        "model.load_state_dict(torch.load(choose_file_from_folder(model_dir)))"
      ]
    },
    {
      "cell_type": "code",
      "execution_count": 61,
      "id": "5bd300f1-f7cc-40f3-a70f-f2b86b0df532",
      "metadata": {
        "id": "5bd300f1-f7cc-40f3-a70f-f2b86b0df532"
      },
      "outputs": [],
      "source": [
        "y_pred = []\n",
        "y_true = []\n",
        "\n",
        "# iterate over test data\n",
        "for inputs, labels in test_dataloader:\n",
        "        output = model(inputs) # Feed Network\n",
        "\n",
        "        output = (torch.max(torch.exp(output), 1)[1]).data.cpu().numpy()\n",
        "        y_pred.extend(output) # Save Prediction\n",
        "        \n",
        "        labels = labels.data.cpu().numpy()\n",
        "        y_true.extend(labels) # Save Truth"
      ]
    },
    {
      "cell_type": "code",
      "execution_count": 63,
      "id": "_Lovy0qCfDTj",
      "metadata": {
        "id": "_Lovy0qCfDTj"
      },
      "outputs": [
        {
          "name": "stdout",
          "output_type": "stream",
          "text": [
            "[[252  19  28  38  27   7  27  24]\n",
            " [ 31 212  14  73  24  32  24  31]\n",
            " [ 23   5 329  15  35  10   8  11]\n",
            " [ 17  19  15 268  30  17  11  28]\n",
            " [ 36  19  54  92 129  29  22  37]\n",
            " [ 15  24  11  46  19 235  14  25]\n",
            " [ 94  23  18  39  20  33 168  49]\n",
            " [ 25  24  14  61  14  23  19 225]]\n"
          ]
        },
        {
          "data": {
            "image/png": "[encoded data removed]",
            "text/plain": [
              "<Figure size 640x480 with 2 Axes>"
            ]
          },
          "metadata": {},
          "output_type": "display_data"
        }
      ],
      "source": [
        "# Calcular la matriz de confusión\n",
        "labels = [\"Burger\",\"Pollo\",\"Donut\",\"Fries\",\"HotDog\",\"Pizza\",\"Bocata\",\"Patata\"]\n",
        "conf_matrix = confusion_matrix(y_true, y_pred)\n",
        "print(conf_matrix)\n",
        "\n",
        "\n",
        "disp = ConfusionMatrixDisplay(confusion_matrix=conf_matrix, display_labels=labels)\n",
        "\n",
        "disp.plot(cmap='plasma')\n",
        "\n",
        "plt.show()"
      ]
    }
  ],
  "metadata": {
    "accelerator": "GPU",
    "colab": {
      "provenance": [],
      "toc_visible": true
    },
    "gpuClass": "standard",
    "kernelspec": {
      "display_name": "Python 3 (ipykernel)",
      "language": "python",
      "name": "python3"
    },
    "language_info": {
      "codemirror_mode": {
        "name": "ipython",
        "version": 3
      },
      "file_extension": ".py",
      "mimetype": "text/x-python",
      "name": "python",
      "nbconvert_exporter": "python",
      "pygments_lexer": "ipython3",
      "version": "3.9.13"
    }
  },
  "nbformat": 4,
  "nbformat_minor": 5
}
