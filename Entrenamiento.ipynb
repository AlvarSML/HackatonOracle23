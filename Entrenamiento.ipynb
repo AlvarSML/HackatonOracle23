{
 "cells": [
  {
   "cell_type": "code",
   "execution_count": 2,
   "id": "42avAvSg17by",
   "metadata": {
    "id": "42avAvSg17by"
   },
   "outputs": [],
   "source": [
    "# imports pytorch\n",
    "import torch"
   ]
  },
  {
   "cell_type": "code",
   "execution_count": 3,
   "id": "318d1165-92db-4612-a238-bb143178bf2a",
   "metadata": {
    "id": "318d1165-92db-4612-a238-bb143178bf2a"
   },
   "outputs": [],
   "source": [
    "import time\n",
    "import copy\n",
    "import pandas as pd\n",
    "import seaborn as sns\n",
    "from IPython.display import Image, display\n",
    "import os\n",
    "import torchvision.transforms as transforms\n",
    "from torchvision import models\n",
    "from torch.utils.data import DataLoader\n",
    "from torch.utils.data import Dataset\n",
    "from PIL import Image as Img\n",
    "import matplotlib.pyplot as plt\n",
    "from torchvision.io import read_image\n",
    "import torch.nn as nn\n",
    "import torchvision\n",
    "import torch.nn.functional as F\n",
    "from torch.autograd import Variable\n",
    "from sklearn.metrics import confusion_matrix\n",
    "import numpy as np\n",
    "import torch.backends\n",
    "from sklearn.metrics import accuracy_score, cohen_kappa_score\n",
    "from sklearn.metrics import classification_report\n",
    "torch.backends.cudnn.enabled = False\n",
    "#CUDA_LAUNCH_BLOCKING=1."
   ]
  },
  {
   "cell_type": "code",
   "execution_count": 4,
   "id": "Hy-8tyhp6i8g",
   "metadata": {
    "colab": {
     "base_uri": "https://localhost:8080/"
    },
    "id": "Hy-8tyhp6i8g",
    "outputId": "59ce7fa5-749d-4f96-f1bb-08c4f10eb9c0"
   },
   "outputs": [],
   "source": [
    "#from google.colab import drive\n",
    "#drive.mount('/content/drive')"
   ]
  },
  {
   "cell_type": "markdown",
   "id": "8e0d95b4-9069-4168-89f5-9176fc1071b7",
   "metadata": {},
   "source": [
    "# 1. Exploracion y division de los set\n",
    "- Se divide previamente los set de test y train \n",
    "- Posible Overfit por usar todas la imagenes en train"
   ]
  },
  {
   "cell_type": "code",
   "execution_count": 8,
   "id": "ebb83022-e2f5-41c9-aebf-e06a4593585f",
   "metadata": {
    "id": "ebb83022-e2f5-41c9-aebf-e06a4593585f"
   },
   "outputs": [],
   "source": [
    "# Se particionan lo set en train test val (80 - 20)\n",
    "# Posible overfit por usar \n",
    "drive = r\"./data/\"\n",
    "archivo_train = drive+r\"train.csv\"\n",
    "archivo_test = drive+r\"test.csv\"\n",
    "dir_imagenes = drive+r\"all_imgs\""
   ]
  },
  {
   "cell_type": "code",
   "execution_count": 9,
   "id": "1f4d648b-32e8-446b-b3b9-132d927f4d45",
   "metadata": {
    "id": "1f4d648b-32e8-446b-b3b9-132d927f4d45"
   },
   "outputs": [],
   "source": [
    "dataset = pd.read_csv(archivo_test, index_col=0)"
   ]
  },
  {
   "cell_type": "code",
   "execution_count": 10,
   "id": "3b111cd7-387f-420f-bc08-34ad9db1b813",
   "metadata": {
    "colab": {
     "base_uri": "https://localhost:8080/",
     "height": 112
    },
    "id": "3b111cd7-387f-420f-bc08-34ad9db1b813",
    "outputId": "1f4dd09c-71f1-4f92-91b5-781f3cf6e9d6"
   },
   "outputs": [
    {
     "data": {
      "text/html": [
       "<div>\n",
       "<style scoped>\n",
       "    .dataframe tbody tr th:only-of-type {\n",
       "        vertical-align: middle;\n",
       "    }\n",
       "\n",
       "    .dataframe tbody tr th {\n",
       "        vertical-align: top;\n",
       "    }\n",
       "\n",
       "    .dataframe thead th {\n",
       "        text-align: right;\n",
       "    }\n",
       "</style>\n",
       "<table border=\"1\" class=\"dataframe\">\n",
       "  <thead>\n",
       "    <tr style=\"text-align: right;\">\n",
       "      <th></th>\n",
       "      <th>path_img</th>\n",
       "      <th>label</th>\n",
       "    </tr>\n",
       "    <tr>\n",
       "      <th>idx_test</th>\n",
       "      <th></th>\n",
       "      <th></th>\n",
       "    </tr>\n",
       "  </thead>\n",
       "  <tbody>\n",
       "    <tr>\n",
       "      <th>0</th>\n",
       "      <td>all_imgs/ec4c75ba-e064-4ed0-a7b1-3ed899424110....</td>\n",
       "      <td>6</td>\n",
       "    </tr>\n",
       "  </tbody>\n",
       "</table>\n",
       "</div>"
      ],
      "text/plain": [
       "                                                   path_img  label\n",
       "idx_test                                                          \n",
       "0         all_imgs/ec4c75ba-e064-4ed0-a7b1-3ed899424110....      6"
      ]
     },
     "execution_count": 10,
     "metadata": {},
     "output_type": "execute_result"
    }
   ],
   "source": [
    "dataset[:1]"
   ]
  },
  {
   "cell_type": "markdown",
   "id": "65bddecf-75b8-4a01-8412-c8cc0fb74b27",
   "metadata": {},
   "source": [
    "#### La distribucion de labels esta balanceada no hay que adaptar nada"
   ]
  },
  {
   "cell_type": "code",
   "execution_count": 16,
   "id": "c2f5de58-d780-4835-bbfe-93c7508d9257",
   "metadata": {},
   "outputs": [
    {
     "data": {
      "text/plain": [
       "<seaborn.axisgrid.FacetGrid at 0x7facd54f9fd0>"
      ]
     },
     "execution_count": 16,
     "metadata": {},
     "output_type": "execute_result"
    },
    {
     "data": {
      "image/png": "[encoded data removed]",
      "text/plain": [
       "<Figure size 500x500 with 1 Axes>"
      ]
     },
     "metadata": {},
     "output_type": "display_data"
    }
   ],
   "source": [
    "sns.catplot(data=dataset, x=\"label\", kind=\"count\", )"
   ]
  },
  {
   "cell_type": "code",
   "execution_count": 17,
   "id": "912b572b-1ad6-4e90-8f4e-20574d917356",
   "metadata": {
    "colab": {
     "base_uri": "https://localhost:8080/"
    },
    "id": "912b572b-1ad6-4e90-8f4e-20574d917356",
    "outputId": "a768c617-f668-4dd0-97ac-3fc1f599884f"
   },
   "outputs": [
    {
     "data": {
      "text/plain": [
       "<torch._C.Generator at 0x7fad84731570>"
      ]
     },
     "execution_count": 17,
     "metadata": {},
     "output_type": "execute_result"
    }
   ],
   "source": [
    "torch.manual_seed(101)"
   ]
  },
  {
   "cell_type": "markdown",
   "id": "6a812486-ca2c-46b7-bce8-900a67e1eb7b",
   "metadata": {},
   "source": [
    "# 2. Clase del dataset para gestionar los datos\n",
    "- Inicialmente se unen categorias para mejorar la precision sin transfer learning\n",
    "- Los bocatas, hamburguesas y perritos bajaban la precision considerablemente por separado\n",
    "- Con transfer learnin deja de ser necesario"
   ]
  },
  {
   "cell_type": "code",
   "execution_count": 18,
   "id": "a60d4a3a-bc79-47f1-9040-06f8e4140b46",
   "metadata": {
    "id": "a60d4a3a-bc79-47f1-9040-06f8e4140b46"
   },
   "outputs": [],
   "source": [
    "class ComidasDataset(Dataset):\n",
    "    def __init__(self, annotations_file, img_dir, transform=None, target_transform=None):\n",
    "        self.img_labels = pd.read_csv(annotations_file, index_col=0)\n",
    "        self.img_dir = img_dir\n",
    "        self.transform = transform\n",
    "        self.target_transform = target_transform\n",
    "\n",
    "    def __len__(self):\n",
    "        return len(self.img_labels)\n",
    "\n",
    "    def __getitem__(self, idx):\n",
    "        img_path = os.path.join(self.img_dir, self.img_labels.iloc[idx, 0])\n",
    "        image = Img.open(img_path).convert('RGB')\n",
    "        label = self.img_labels.iloc[idx, 1]\n",
    "        '''\n",
    "        # union de bocata 6 - burger 0\n",
    "        if label == 6:\n",
    "            label = 0\n",
    "        \n",
    "        # union de hot dog 4 - patata 7\n",
    "        if label == 7:\n",
    "            label = 4\n",
    "        '''\n",
    "        if self.transform:\n",
    "            image = self.transform(image)\n",
    "        if self.target_transform:\n",
    "            label = self.target_transform(label)\n",
    "\n",
    "        return image, label"
   ]
  },
  {
   "cell_type": "markdown",
   "id": "6759e062-11ba-4845-988e-cbb140b8f5a0",
   "metadata": {},
   "source": [
    "# 3. Data Augmentation\n",
    "- Se prueban 2 tipos\n",
    "- Se elige el standard CIFAR10 por ser utilizado en imagenes similares con buenos resultados\n",
    "- Para test NO SE DEBEN HACER TRANSFORMACIONES\n",
    "- Se redimensionan todas las imagens a 300x300, que es aproximadamente la moda. Los outliers son pocos asi que ignoramos las resoluciones muy altas o muy bajas"
   ]
  },
  {
   "cell_type": "code",
   "execution_count": 19,
   "id": "9412a324-39dc-42b8-8c6a-36b5c713ce68",
   "metadata": {
    "id": "9412a324-39dc-42b8-8c6a-36b5c713ce68"
   },
   "outputs": [],
   "source": [
    "transform_train = transforms.Compose([\n",
    "    transforms.Resize(size=(300,300)),\n",
    "    transforms.ColorJitter(brightness=.5, hue=.1),\n",
    "    transforms.GaussianBlur(kernel_size=(5, 9), sigma=(0.1, 5)),\n",
    "    transforms.RandomPerspective(distortion_scale=0.6, p=1.0),\n",
    "    transforms.RandomRotation(degrees=(0, 180)),\n",
    "    transforms.ToTensor(),\n",
    "])\n",
    "\n",
    "transform_pol = transforms.Compose([\n",
    "    transforms.Resize(size=(300,300)),\n",
    "    transforms.AutoAugment(transforms.AutoAugmentPolicy.CIFAR10),\n",
    "    transforms.ToTensor(),\n",
    "])\n",
    "\n",
    "transform_test = transforms.Compose([\n",
    "    transforms.Resize(size=(300,300)),\n",
    "    transforms.ToTensor(),\n",
    "])"
   ]
  },
  {
   "cell_type": "code",
   "execution_count": 20,
   "id": "1aff671c-35b1-4d71-bb27-06fc4588d8d9",
   "metadata": {
    "id": "1aff671c-35b1-4d71-bb27-06fc4588d8d9"
   },
   "outputs": [],
   "source": [
    "dat_train = ComidasDataset(archivo_train, drive, transform=transform_pol )\n",
    "dat_test = ComidasDataset(archivo_test, drive, transform=transform_test )"
   ]
  },
  {
   "cell_type": "code",
   "execution_count": 21,
   "id": "1bffdc86-c7a1-4828-ac93-60ee70d2b08d",
   "metadata": {},
   "outputs": [],
   "source": [
    "train = iter(dat_train)"
   ]
  },
  {
   "cell_type": "code",
   "execution_count": 22,
   "id": "126e38de-99c1-46fb-95da-b486d3f7882a",
   "metadata": {},
   "outputs": [
    {
     "name": "stdout",
     "output_type": "stream",
     "text": [
      "0\n"
     ]
    },
    {
     "data": {
      "image/png": "[encoded data removed]",
      "text/plain": [
       "<Figure size 640x480 with 1 Axes>"
      ]
     },
     "metadata": {},
     "output_type": "display_data"
    }
   ],
   "source": [
    "img, y = next(train)\n",
    "plt.imshow(img.permute(1, 2, 0))\n",
    "print(y)"
   ]
  },
  {
   "cell_type": "code",
   "execution_count": 23,
   "id": "bfeff77d-858e-41d1-acf2-7dc2290b0717",
   "metadata": {
    "id": "bfeff77d-858e-41d1-acf2-7dc2290b0717"
   },
   "outputs": [],
   "source": [
    "\"\"\" Muy importante:\n",
    "    Aqui se decide el batch size, que despues se incluye en la capa lineal\n",
    "\"\"\"\n",
    "train_dataloader = DataLoader(dat_train, batch_size=100, shuffle=True)\n",
    "test_dataloader = DataLoader(dat_test, batch_size=100, shuffle=True)"
   ]
  },
  {
   "cell_type": "raw",
   "id": "d70eb904-710e-49a8-9192-abf5d4f6fd64",
   "metadata": {
    "id": "63539039-3c6a-4cbd-a1a1-91c7d197b213"
   },
   "source": [
    "# base de rnn sacada de https://learn.microsoft.com/en-us/windows/ai/windows-ml/tutorials/pytorch-train-model\n",
    "\n",
    "\n",
    "# Define a convolution neural network\n",
    "# Variotanal autoencoder ?\n",
    "class Network(nn.Module):\n",
    "    def __init__(self):\n",
    "        super(Network, self).__init__()\n",
    "        # se han usadp kernels de 3x3 para no complicar los calculos de dimensiones\n",
    "        \n",
    "        # in_channes = 3 colores (RGB)\n",
    "        # out_channes = salidad de la convolucion (3*4)? \n",
    "        # kernes_size = tamaño de la cuadricula de convolucion\n",
    "        # stride = pasos que se mueve la convolucion\n",
    "        # padding = bode generado para no perder features en los extremos\n",
    "        # Sacal un featuremap de 12 canales: [batchx12x512x512}\n",
    "        self.conv1 = nn.Conv2d(in_channels=3, out_channels=12, kernel_size=5, stride=1, padding=2)\n",
    "        self.bn1 = nn.BatchNorm2d(12)\n",
    "\n",
    "        self.conv2 = nn.Conv2d(in_channels=12, out_channels=12, kernel_size=5, stride=1, padding=2)\n",
    "        self.bn2 = nn.BatchNorm2d(12)\n",
    "        # max pool reduce las dimensiones del featuremp\n",
    "        # salida = [batchx12x64x64]\n",
    "        self.pool = nn.MaxPool2d(2, 2)\n",
    "\n",
    "        # salida = [batchx24x64x64]\n",
    "        self.conv4 = nn.Conv2d(in_channels=12, out_channels=24, kernel_size=3, stride=1, padding=1)\n",
    "        self.bn4 = nn.BatchNorm2d(24)\n",
    "        \n",
    "        # salida = [batchx24x64x64]\n",
    "        self.conv5 = nn.Conv2d(in_channels=24, out_channels=24, kernel_size=3, stride=1, padding=1)\n",
    "        self.bn5 = nn.BatchNorm2d(24)\n",
    "\n",
    "        #test, no se usa en el resultado\n",
    "        self.flat = nn.Flatten()\n",
    "\n",
    "        self.fc3 = nn.Linear(24*150*150, 512)        \n",
    "        self.fc2 = nn.Linear(512, 128)\n",
    "        self.fc1 = nn.Linear(128, 8)\n",
    "        self.soft = nn.LogSoftmax(dim = 1)\n",
    "        \n",
    "        \n",
    "        \n",
    "    def forward(self, input):\n",
    "        # fase 1 se pasa el output de la convolucion a BatchNorm y a ReLu\n",
    "        output = F.relu(self.bn1(self.conv1(input)))\n",
    "        output = F.relu(self.bn2(self.conv2(output)))\n",
    "        output = self.pool(output)\n",
    "        output = F.relu(self.bn4(self.conv4(output)))\n",
    "        output = F.relu(self.bn5(self.conv5(output)))\n",
    "        #print(output.size())\n",
    "        output = output.view(-1, 24*150*150)\n",
    "        #print(output.size())\n",
    "        output = self.fc3(output)\n",
    "        output = self.fc2(output)\n",
    "        output = self.fc1(output)\n",
    "        output = self.soft(output)\n",
    "        return output\n",
    "\n",
    "\n",
    "# Instantiate a neural network model \n",
    "# model = Network()"
   ]
  },
  {
   "cell_type": "markdown",
   "id": "e69f7c03-cc45-4fc7-a6b6-9cea674839eb",
   "metadata": {},
   "source": [
    "# 4. Red neuronal\n",
    "- Se elige densenet121, ya esta implementada en pytorch y da 90+ de acc en kaggle con datos similares. No nos complicamos\n",
    "- El dataset preentrenado tiene muchas mas clases, por seguridad no congelamos las capas conv\n",
    "- Optimizador adam\n",
    "- Scheduling de lr, se reduce a la mitad cada 5 epoch, es suficiente\n",
    "- Funcion de perdidad de entropia cruzada, aparenetemente la mejor para clasificacion, se usa en todos los demas trabajos"
   ]
  },
  {
   "cell_type": "code",
   "execution_count": 24,
   "id": "73a572da-ec17-4481-8234-5aa50f14752d",
   "metadata": {},
   "outputs": [],
   "source": [
    "def CNN_Model(pretrained=False):\n",
    "    class_names = [\"Burger\",\"Pollo\",\"Donut\",\"Fries\",\"HotDog\",\"Pizza\",\"Bocata\",\"Patata\"]\n",
    "    model = models.densenet121(pretrained=pretrained) \n",
    "    num_ftrs = model.classifier.in_features\n",
    "    model.classifier = nn.Linear(num_ftrs, len(class_names))\n",
    "    device = device = torch.device(\"cuda:0\" if torch.cuda.is_available() else \"cpu\")\n",
    "    model = model.to(device) \n",
    "    return model"
   ]
  },
  {
   "cell_type": "code",
   "execution_count": 25,
   "id": "c3a95d1c-f82e-4216-82b6-5c382f0ce2d9",
   "metadata": {},
   "outputs": [],
   "source": [
    "model = CNN_Model(pretrained=True)"
   ]
  },
  {
   "cell_type": "code",
   "execution_count": 20,
   "id": "2c230cc0-45c7-466e-b0d9-4f90fc09b192",
   "metadata": {},
   "outputs": [
    {
     "data": {
      "text/plain": [
       "<All keys matched successfully>"
      ]
     },
     "execution_count": 20,
     "metadata": {},
     "output_type": "execute_result"
    }
   ],
   "source": [
    "#PATH = drive+r\"model_14marzo_parcial.pth\"\n",
    "#model.load_state_dict(torch.load(PATH))"
   ]
  },
  {
   "cell_type": "code",
   "execution_count": 20,
   "id": "14b79b8a-7713-42c2-8f65-72f4075eda08",
   "metadata": {
    "colab": {
     "base_uri": "https://localhost:8080/"
    },
    "id": "14b79b8a-7713-42c2-8f65-72f4075eda08",
    "outputId": "7e6a73f3-e2c0-4f57-e5cb-2d7a94889d74"
   },
   "outputs": [
    {
     "name": "stdout",
     "output_type": "stream",
     "text": [
      "Using cuda:0 device\n"
     ]
    }
   ],
   "source": [
    "device = device = torch.device(\"cuda:0\" if torch.cuda.is_available() else \"cpu\")\n",
    "print(f\"Using {device} device\")"
   ]
  },
  {
   "cell_type": "raw",
   "id": "ca59ac82-213a-4faa-a4bd-618c1307dfd6",
   "metadata": {
    "id": "abc4b0bf-78f5-4a29-babe-9b5e4252c072"
   },
   "source": [
    "# Funciones base sacadas de https://pytorch.org/tutorials/beginner/basics/optimization_tutorial.html\n",
    "def train_loop(dataloader, model, loss_fn, optimizer):\n",
    "    best_accuracy = 0.0\n",
    "    \n",
    "    # Define your execution device\n",
    "    device = torch.device(\"cuda:0\" if torch.cuda.is_available() else \"cpu\")\n",
    "    # device = xm.xla_device()\n",
    "    print(\"The model will be running on\", device, \"device\")\n",
    "    # Convert model parameters and buffers to CPU or Cuda\n",
    "    model = model.to(device)\n",
    "    size = len(dataloader.dataset)\n",
    "\n",
    "    for batch, (images, label) in enumerate(dataloader):\n",
    "        # get the inputs\n",
    "        #X = Variable(torch.tensor(images))\n",
    "        images = images.to(device)\n",
    "        y = Variable(label.to(device))\n",
    "\n",
    "        # Compute prediction and loss\n",
    "        pred = model(images)\n",
    "        loss = loss_fn(pred, y)\n",
    "\n",
    "        # Backpropagation\n",
    "        optimizer.zero_grad()\n",
    "        loss.backward()\n",
    "        optimizer.step()\n",
    "\n",
    "        # print(batch)\n",
    "        # print cada 2 batches = 2 * 1024 = 2048 imagenes\n",
    "        if batch % 5 == 0:\n",
    "            loss, current = loss.item(), (batch + 1) * len(images)\n",
    "            print(f\"loss: {loss:>7f}  [{current:>5d}/{size:>5d}]\")\n",
    "\n",
    "\n",
    "def test_loop(dataloader, model, loss_fn):\n",
    "    size = len(dataloader.dataset)\n",
    "    num_batches = len(dataloader)\n",
    "    test_loss, correct = 0, 0\n",
    "\n",
    "    # Define your execution device\n",
    "    device = torch.device(\"cuda:0\" if torch.cuda.is_available() else \"cpu\")\n",
    "    # device = xm.xla_device()\n",
    "\n",
    "    # matriz de confusion\n",
    "    y_pred = []\n",
    "    y_true = []\n",
    "\n",
    "\n",
    "    with torch.no_grad():\n",
    "        for X, y in dataloader:\n",
    "            X = X.to(device)\n",
    "            y = y.to(device)\n",
    "\n",
    "            pred = model(X)\n",
    "            '''\n",
    "            output = (torch.max(torch.exp(pred), 1)[1]).data.cpu().numpy()\n",
    "\n",
    "            y_pred.extend(output) # Save Prediction\n",
    "        \n",
    "            labels = labels.data.cpu().numpy()\n",
    "            y_true.extend(labels) # Save Truth\n",
    "            '''\n",
    "            test_loss += loss_fn(pred, y).item()\n",
    "            correct += (pred.argmax(1) == y).type(torch.float).sum().item()\n",
    "    '''\n",
    "    conf_matrix = confusion_matrix(y_true, y_pred)\n",
    "    print(\"Confusion\")\n",
    "    print(conf_matrix)\n",
    "    '''\n",
    "\n",
    "    test_loss /= num_batches\n",
    "    correct /= size\n",
    "    print(f\"Test Error: \\n Accuracy: {(100*correct):>0.1f}%, Avg loss: {test_loss:>8f} \\n\")"
   ]
  },
  {
   "cell_type": "code",
   "execution_count": 22,
   "id": "lOFKujTChKPg",
   "metadata": {
    "id": "lOFKujTChKPg"
   },
   "outputs": [],
   "source": [
    "# model.load_state_dict(torch.load(drive+f\"model_13896134932304.pth\"))"
   ]
  },
  {
   "cell_type": "code",
   "execution_count": 23,
   "id": "cff90a72-c3bf-4219-a98f-3dc5265de323",
   "metadata": {
    "colab": {
     "base_uri": "https://localhost:8080/"
    },
    "id": "cff90a72-c3bf-4219-a98f-3dc5265de323",
    "outputId": "b74753ae-c04b-4859-ab82-3534d3e68875",
    "tags": []
   },
   "outputs": [
    {
     "name": "stdout",
     "output_type": "stream",
     "text": [
      "Number of trainable parameters: \n",
      "6962056\n"
     ]
    }
   ],
   "source": [
    "from torch.optim import Adam, lr_scheduler\n",
    "\n",
    "learning_rate = 0.1\n",
    "\n",
    "loss_fn = nn.CrossEntropyLoss()\n",
    "\n",
    "optimizer = Adam(model.parameters(), lr=learning_rate)\n",
    "exp_lr_scheduler = lr_scheduler.StepLR(optimizer, step_size=5, gamma=0.5) # Learning Scheduler\n",
    "\n",
    "pytorch_total_params = sum(p.numel() for p in model.parameters() if p.requires_grad)\n",
    "print(\"Number of trainable parameters: \\n{}\".format(pytorch_total_params))"
   ]
  },
  {
   "cell_type": "code",
   "execution_count": 26,
   "id": "c3214a13-59ed-4eb0-a888-968b533daf4c",
   "metadata": {
    "tags": []
   },
   "outputs": [],
   "source": [
    "def train_model(model, criterion, optimizer, scheduler, num_epochs=10):\n",
    "    since = time.time()\n",
    "\n",
    "    best_model_wts = copy.deepcopy(model.state_dict())\n",
    "    best_loss = np.inf\n",
    "\n",
    "    for epoch in range(num_epochs):\n",
    "        print('Epoch {}/{}'.format(epoch+1, num_epochs))\n",
    "        print('-' * 10)\n",
    "\n",
    "        # Each epoch has a training and validation phase\n",
    "        for phase in ['train', 'val']:\n",
    "            if phase == 'train':\n",
    "                model.train()  # Set model to training mode\n",
    "            else:\n",
    "                model.eval()   # Set model to evaluate mode\n",
    "\n",
    "            current_loss = 0.0\n",
    "            current_corrects = 0\n",
    "            current_kappa = 0\n",
    "            val_kappa = list()\n",
    "\n",
    "            for inputs, labels in test_dataloader:\n",
    "                inputs = inputs.to(device)\n",
    "                labels = labels.to(device)\n",
    "\n",
    "                # We need to zero the gradients in the Cache.\n",
    "                optimizer.zero_grad()\n",
    "\n",
    "                # Time to carry out the forward training poss\n",
    "                # We only need to log the loss stats if we are in training phase\n",
    "                with torch.set_grad_enabled(phase == 'train'):\n",
    "                    outputs = model(inputs)\n",
    "                    _, preds = torch.max(outputs, 1)\n",
    "                    loss = criterion(outputs, labels)\n",
    "\n",
    "                    # backward + optimize only if in training phase\n",
    "                    if phase == 'train':\n",
    "                        loss.backward()\n",
    "                        optimizer.step()\n",
    "                        \n",
    "                # We want variables to hold the loss statistics\n",
    "                current_loss += loss.item() * inputs.size(0)\n",
    "                current_corrects += torch.sum(preds == labels.data)\n",
    "                val_kappa.append(cohen_kappa_score(preds.cpu().numpy(), labels.data.cpu().numpy()))\n",
    "                    \n",
    "            if phase == 'train':\n",
    "                scheduler.step()\n",
    "                print(\"Learnin rate =\",optimizer.param_groups[0][\"lr\"])\n",
    "\n",
    "            # Estaba 1 mas a al der\n",
    "            epoch_loss = current_loss / data_sizes[phase]\n",
    "            epoch_acc = current_corrects.double() / data_sizes[phase]\n",
    "            if phase == 'val':\n",
    "                epoch_kappa = np.mean(val_kappa)\n",
    "                print('{} Loss: {:.4f} | {} Accuracy: {:.4f} | Kappa Score: {:.4f}'.format(\n",
    "                    phase, epoch_loss, phase, epoch_acc, epoch_kappa))\n",
    "            else:\n",
    "                print('{} Loss: {:.4f} | {} Accuracy: {:.4f}'.format(\n",
    "                    phase, epoch_loss, phase, epoch_acc))\n",
    "\n",
    "            # EARLY STOPPING\n",
    "            if phase == 'val' and epoch_loss < best_loss:\n",
    "                print('Val loss Decreased from {:.4f} to {:.4f} \\nSaving Weights... '.format(best_loss, epoch_loss))\n",
    "                best_loss = epoch_loss\n",
    "                best_model_wts = copy.deepcopy(model.state_dict())\n",
    "\n",
    "        print()\n",
    "\n",
    "    time_since = time.time() - since\n",
    "    print('Training complete in {:.0f}m {:.0f}s'.format(\n",
    "        time_since // 60, time_since % 60))\n",
    "    print('Best val loss: {:.4f}'.format(best_loss))\n",
    "\n",
    "    # Now we'll load in the best model weights and return it\n",
    "    model.load_state_dict(best_model_wts)\n",
    "    return model"
   ]
  },
  {
   "cell_type": "code",
   "execution_count": 25,
   "id": "f78f1c4e-6a4c-4ce5-ba23-1ef4ba819a47",
   "metadata": {},
   "outputs": [],
   "source": [
    "import warnings\n",
    "warnings.filterwarnings('ignore')"
   ]
  },
  {
   "cell_type": "code",
   "execution_count": 27,
   "id": "54b35dc0-72fb-4943-8c80-ec5fde404338",
   "metadata": {},
   "outputs": [
    {
     "name": "stdout",
     "output_type": "stream",
     "text": [
      "Epoch 1/100\n",
      "----------\n",
      "Learnin rate = 0.1\n",
      "train Loss: 2.7417 | train Accuracy: 0.0537\n",
      "val Loss: 2310110.1315 | val Accuracy: 0.1348 | Kappa Score: 0.0090\n",
      "Val loss Decreased from inf to 2310110.1315 \n",
      "Saving Weights... \n",
      "\n",
      "Epoch 2/100\n",
      "----------\n",
      "Learnin rate = 0.1\n",
      "train Loss: 0.9015 | train Accuracy: 0.0670\n",
      "val Loss: 3.3399 | val Accuracy: 0.1752 | Kappa Score: 0.0569\n",
      "Val loss Decreased from 2310110.1315 to 3.3399 \n",
      "Saving Weights... \n",
      "\n",
      "Epoch 3/100\n",
      "----------\n",
      "Learnin rate = 0.1\n",
      "train Loss: 0.8522 | train Accuracy: 0.0944\n",
      "val Loss: 2.0423 | val Accuracy: 0.2242 | Kappa Score: 0.1106\n",
      "Val loss Decreased from 3.3399 to 2.0423 \n",
      "Saving Weights... \n",
      "\n",
      "Epoch 4/100\n",
      "----------\n",
      "Learnin rate = 0.1\n",
      "train Loss: 0.8174 | train Accuracy: 0.1115\n",
      "val Loss: 2.2188 | val Accuracy: 0.2000 | Kappa Score: 0.0834\n",
      "\n",
      "Epoch 5/100\n",
      "----------\n",
      "Learnin rate = 0.05\n",
      "train Loss: 0.7977 | train Accuracy: 0.1207\n",
      "val Loss: 1.5950 | val Accuracy: 0.4200 | Kappa Score: 0.3343\n",
      "\n",
      "Epoch 14/100\n",
      "----------\n",
      "Learnin rate = 0.025\n",
      "train Loss: 0.6074 | train Accuracy: 0.2104\n",
      "val Loss: 1.5998 | val Accuracy: 0.4240 | Kappa Score: 0.3388\n",
      "\n",
      "Epoch 15/100\n",
      "----------\n",
      "Learnin rate = 0.0125\n",
      "train Loss: 0.5996 | train Accuracy: 0.2161\n",
      "val Loss: 1.4448 | val Accuracy: 0.4960 | Kappa Score: 0.4220\n",
      "Val loss Decreased from 1.4967 to 1.4448 \n",
      "Saving Weights... \n",
      "\n",
      "Epoch 16/100\n",
      "----------\n",
      "Learnin rate = 0.0125\n",
      "train Loss: 0.5720 | train Accuracy: 0.2237\n",
      "val Loss: 1.4335 | val Accuracy: 0.4985 | Kappa Score: 0.4254\n",
      "Val loss Decreased from 1.4448 to 1.4335 \n",
      "Saving Weights... \n",
      "\n",
      "Epoch 17/100\n",
      "----------\n",
      "Learnin rate = 0.0125\n",
      "train Loss: 0.5528 | train Accuracy: 0.2362\n",
      "val Loss: 1.2834 | val Accuracy: 0.5494 | Kappa Score: 0.4819\n",
      "Val loss Decreased from 1.4335 to 1.2834 \n",
      "Saving Weights... \n",
      "\n",
      "Epoch 18/100\n",
      "----------\n",
      "Learnin rate = 0.0125\n",
      "train Loss: 0.5365 | train Accuracy: 0.2382\n",
      "val Loss: 1.2524 | val Accuracy: 0.5650 | Kappa Score: 0.5000\n",
      "Val loss Decreased from 1.2834 to 1.2524 \n",
      "Saving Weights... \n",
      "\n",
      "Epoch 19/100\n",
      "----------\n",
      "Learnin rate = 0.0125\n",
      "train Loss: 0.5252 | train Accuracy: 0.2498\n",
      "val Loss: 1.4619 | val Accuracy: 0.5112 | Kappa Score: 0.4390\n",
      "\n",
      "Epoch 20/100\n",
      "----------\n",
      "Learnin rate = 0.00625\n",
      "train Loss: 0.5010 | train Accuracy: 0.2572\n",
      "val Loss: 1.3784 | val Accuracy: 0.5125 | Kappa Score: 0.4406\n",
      "\n",
      "Epoch 21/100\n",
      "----------\n",
      "Learnin rate = 0.00625\n",
      "train Loss: 0.4674 | train Accuracy: 0.2696\n",
      "val Loss: 1.1849 | val Accuracy: 0.5804 | Kappa Score: 0.5183\n",
      "Val loss Decreased from 1.2524 to 1.1849 \n",
      "Saving Weights... \n",
      "\n",
      "Epoch 22/100\n",
      "----------\n",
      "Learnin rate = 0.00625\n",
      "train Loss: 0.4416 | train Accuracy: 0.2768\n",
      "val Loss: 1.4484 | val Accuracy: 0.5069 | Kappa Score: 0.4333\n",
      "\n",
      "Epoch 23/100\n",
      "----------\n",
      "Learnin rate = 0.00625\n",
      "train Loss: 0.4169 | train Accuracy: 0.2894\n",
      "val Loss: 0.9849 | val Accuracy: 0.6694 | Kappa Score: 0.6200\n",
      "Val loss Decreased from 1.1849 to 0.9849 \n",
      "Saving Weights... \n",
      "\n",
      "Epoch 24/100\n",
      "----------\n",
      "Learnin rate = 0.00625\n",
      "train Loss: 0.4136 | train Accuracy: 0.2913\n",
      "val Loss: 1.0985 | val Accuracy: 0.6238 | Kappa Score: 0.5676\n",
      "\n",
      "Epoch 25/100\n",
      "----------\n",
      "Learnin rate = 0.003125\n",
      "train Loss: 0.3946 | train Accuracy: 0.2942\n",
      "val Loss: 1.0407 | val Accuracy: 0.6469 | Kappa Score: 0.5939\n",
      "\n",
      "Epoch 26/100\n",
      "----------\n",
      "Learnin rate = 0.003125\n",
      "train Loss: 0.3625 | train Accuracy: 0.3068\n",
      "val Loss: 0.8088 | val Accuracy: 0.7219 | Kappa Score: 0.6795\n",
      "Val loss Decreased from 0.9849 to 0.8088 \n",
      "Saving Weights... \n",
      "\n",
      "Epoch 27/100\n",
      "----------\n",
      "Learnin rate = 0.003125\n",
      "train Loss: 0.3420 | train Accuracy: 0.3128\n",
      "val Loss: 0.8187 | val Accuracy: 0.7202 | Kappa Score: 0.6783\n",
      "\n",
      "Epoch 28/100\n",
      "----------\n",
      "Learnin rate = 0.003125\n",
      "train Loss: 0.3340 | train Accuracy: 0.3175\n",
      "val Loss: 0.7326 | val Accuracy: 0.7581 | Kappa Score: 0.7215\n",
      "Val loss Decreased from 0.8088 to 0.7326 \n",
      "Saving Weights... \n",
      "\n",
      "Epoch 29/100\n",
      "----------\n",
      "Learnin rate = 0.003125\n",
      "train Loss: 0.3227 | train Accuracy: 0.3204\n",
      "val Loss: 0.7421 | val Accuracy: 0.7508 | Kappa Score: 0.7134\n",
      "\n",
      "Epoch 30/100\n",
      "----------\n",
      "Learnin rate = 0.0015625\n",
      "train Loss: 0.3178 | train Accuracy: 0.3208\n",
      "val Loss: 0.6950 | val Accuracy: 0.7679 | Kappa Score: 0.7326\n",
      "Val loss Decreased from 0.7326 to 0.6950 \n",
      "Saving Weights... \n",
      "\n",
      "Epoch 31/100\n",
      "----------\n",
      "Learnin rate = 0.0015625\n",
      "train Loss: 0.2915 | train Accuracy: 0.3318\n",
      "val Loss: 0.6335 | val Accuracy: 0.7871 | Kappa Score: 0.7553\n",
      "Val loss Decreased from 0.6950 to 0.6335 \n",
      "Saving Weights... \n",
      "\n",
      "Epoch 32/100\n",
      "----------\n",
      "Learnin rate = 0.0015625\n",
      "train Loss: 0.2808 | train Accuracy: 0.3365\n",
      "val Loss: 0.5976 | val Accuracy: 0.8069 | Kappa Score: 0.7773\n",
      "Val loss Decreased from 0.6335 to 0.5976 \n",
      "Saving Weights... \n",
      "\n",
      "Epoch 33/100\n",
      "----------\n",
      "Learnin rate = 0.0015625\n",
      "train Loss: 0.2710 | train Accuracy: 0.3414\n",
      "val Loss: 0.6002 | val Accuracy: 0.8058 | Kappa Score: 0.7765\n",
      "\n",
      "Epoch 34/100\n",
      "----------\n",
      "Learnin rate = 0.0015625\n",
      "train Loss: 0.2641 | train Accuracy: 0.3416\n",
      "val Loss: 0.5765 | val Accuracy: 0.8150 | Kappa Score: 0.7869\n",
      "Val loss Decreased from 0.5976 to 0.5765 \n",
      "Saving Weights... \n",
      "\n",
      "Epoch 35/100\n",
      "----------\n",
      "Learnin rate = 0.00078125\n",
      "train Loss: 0.2554 | train Accuracy: 0.3485\n",
      "val Loss: 0.5325 | val Accuracy: 0.8290 | Kappa Score: 0.8031\n",
      "Val loss Decreased from 0.5765 to 0.5325 \n",
      "Saving Weights... \n",
      "\n",
      "Epoch 36/100\n",
      "----------\n",
      "Learnin rate = 0.00078125\n",
      "train Loss: 0.2390 | train Accuracy: 0.3509\n",
      "val Loss: 0.4752 | val Accuracy: 0.8550 | Kappa Score: 0.8330\n",
      "Val loss Decreased from 0.5325 to 0.4752 \n",
      "Saving Weights... \n",
      "\n",
      "Epoch 37/100\n",
      "----------\n",
      "Learnin rate = 0.00078125\n",
      "train Loss: 0.2333 | train Accuracy: 0.3554\n",
      "val Loss: 0.4792 | val Accuracy: 0.8465 | Kappa Score: 0.8230\n",
      "\n",
      "Epoch 38/100\n",
      "----------\n",
      "Learnin rate = 0.00078125\n",
      "train Loss: 0.2276 | train Accuracy: 0.3550\n",
      "val Loss: 0.4597 | val Accuracy: 0.8573 | Kappa Score: 0.8355\n",
      "Val loss Decreased from 0.4752 to 0.4597 \n",
      "Saving Weights... \n",
      "\n",
      "Epoch 39/100\n",
      "----------\n",
      "Learnin rate = 0.00078125\n",
      "train Loss: 0.2205 | train Accuracy: 0.3562\n",
      "val Loss: 0.4742 | val Accuracy: 0.8492 | Kappa Score: 0.8263\n",
      "\n",
      "Epoch 40/100\n",
      "----------\n",
      "Learnin rate = 0.000390625\n",
      "train Loss: 0.2128 | train Accuracy: 0.3614\n",
      "val Loss: 0.4218 | val Accuracy: 0.8723 | Kappa Score: 0.8527\n",
      "Val loss Decreased from 0.4597 to 0.4218 \n",
      "Saving Weights... \n",
      "\n",
      "Epoch 41/100\n",
      "----------\n",
      "Learnin rate = 0.000390625\n",
      "train Loss: 0.2038 | train Accuracy: 0.3638\n",
      "val Loss: 0.4090 | val Accuracy: 0.8802 | Kappa Score: 0.8619\n",
      "Val loss Decreased from 0.4218 to 0.4090 \n",
      "Saving Weights... \n",
      "\n",
      "Epoch 42/100\n",
      "----------\n",
      "Learnin rate = 0.000390625\n",
      "train Loss: 0.1987 | train Accuracy: 0.3667\n",
      "val Loss: 0.3947 | val Accuracy: 0.8813 | Kappa Score: 0.8631\n",
      "Val loss Decreased from 0.4090 to 0.3947 \n",
      "Saving Weights... \n",
      "\n",
      "Epoch 43/100\n",
      "----------\n",
      "Learnin rate = 0.000390625\n",
      "train Loss: 0.1989 | train Accuracy: 0.3646\n",
      "val Loss: 0.3910 | val Accuracy: 0.8873 | Kappa Score: 0.8701\n",
      "Val loss Decreased from 0.3947 to 0.3910 \n",
      "Saving Weights... \n",
      "\n",
      "Epoch 44/100\n",
      "----------\n",
      "Learnin rate = 0.000390625\n",
      "train Loss: 0.1962 | train Accuracy: 0.3670\n",
      "val Loss: 0.3810 | val Accuracy: 0.8896 | Kappa Score: 0.8726\n",
      "Val loss Decreased from 0.3910 to 0.3810 \n",
      "Saving Weights... \n",
      "\n",
      "Epoch 45/100\n",
      "----------\n",
      "Learnin rate = 0.0001953125\n",
      "train Loss: 0.1869 | train Accuracy: 0.3686\n",
      "val Loss: 0.3704 | val Accuracy: 0.8942 | Kappa Score: 0.8781\n",
      "Val loss Decreased from 0.3810 to 0.3704 \n",
      "Saving Weights... \n",
      "\n",
      "Epoch 46/100\n",
      "----------\n",
      "Learnin rate = 0.0001953125\n",
      "train Loss: 0.1852 | train Accuracy: 0.3711\n",
      "val Loss: 0.3604 | val Accuracy: 0.8950 | Kappa Score: 0.8789\n",
      "Val loss Decreased from 0.3704 to 0.3604 \n",
      "Saving Weights... \n",
      "\n",
      "Epoch 47/100\n",
      "----------\n",
      "Learnin rate = 0.0001953125\n",
      "train Loss: 0.1845 | train Accuracy: 0.3707\n",
      "val Loss: 0.3588 | val Accuracy: 0.8954 | Kappa Score: 0.8794\n",
      "Val loss Decreased from 0.3604 to 0.3588 \n",
      "Saving Weights... \n",
      "\n",
      "Epoch 48/100\n",
      "----------\n",
      "Learnin rate = 0.0001953125\n",
      "train Loss: 0.1834 | train Accuracy: 0.3708\n",
      "val Loss: 0.3537 | val Accuracy: 0.9015 | Kappa Score: 0.8864\n",
      "Val loss Decreased from 0.3588 to 0.3537 \n",
      "Saving Weights... \n",
      "\n",
      "Epoch 49/100\n",
      "----------\n",
      "Learnin rate = 0.0001953125\n",
      "train Loss: 0.1775 | train Accuracy: 0.3741\n",
      "val Loss: 0.3488 | val Accuracy: 0.8990 | Kappa Score: 0.8835\n",
      "Val loss Decreased from 0.3537 to 0.3488 \n",
      "Saving Weights... \n",
      "\n",
      "Epoch 50/100\n",
      "----------\n",
      "Learnin rate = 9.765625e-05\n",
      "train Loss: 0.1746 | train Accuracy: 0.3742\n",
      "val Loss: 0.3439 | val Accuracy: 0.8998 | Kappa Score: 0.8845\n",
      "Val loss Decreased from 0.3488 to 0.3439 \n",
      "Saving Weights... \n",
      "\n",
      "Epoch 51/100\n",
      "----------\n",
      "Learnin rate = 9.765625e-05\n",
      "train Loss: 0.1762 | train Accuracy: 0.3725\n",
      "val Loss: 0.3415 | val Accuracy: 0.9027 | Kappa Score: 0.8879\n",
      "Val loss Decreased from 0.3439 to 0.3415 \n",
      "Saving Weights... \n",
      "\n",
      "Epoch 52/100\n",
      "----------\n",
      "Learnin rate = 9.765625e-05\n",
      "train Loss: 0.1716 | train Accuracy: 0.3767\n",
      "val Loss: 0.3396 | val Accuracy: 0.9029 | Kappa Score: 0.8879\n",
      "Val loss Decreased from 0.3415 to 0.3396 \n",
      "Saving Weights... \n",
      "\n",
      "Epoch 53/100\n",
      "----------\n",
      "Learnin rate = 9.765625e-05\n",
      "train Loss: 0.1726 | train Accuracy: 0.3755\n",
      "val Loss: 0.3342 | val Accuracy: 0.9035 | Kappa Score: 0.8889\n",
      "Val loss Decreased from 0.3396 to 0.3342 \n",
      "Saving Weights... \n",
      "\n",
      "Epoch 54/100\n",
      "----------\n",
      "Learnin rate = 9.765625e-05\n",
      "train Loss: 0.1730 | train Accuracy: 0.3737\n",
      "val Loss: 0.3349 | val Accuracy: 0.9046 | Kappa Score: 0.8900\n",
      "\n",
      "Epoch 55/100\n",
      "----------\n",
      "Learnin rate = 4.8828125e-05\n",
      "train Loss: 0.1752 | train Accuracy: 0.3746\n",
      "val Loss: 0.3345 | val Accuracy: 0.9044 | Kappa Score: 0.8898\n",
      "\n",
      "Epoch 56/100\n",
      "----------\n",
      "Learnin rate = 4.8828125e-05\n",
      "train Loss: 0.1690 | train Accuracy: 0.3773\n",
      "val Loss: 0.3324 | val Accuracy: 0.9073 | Kappa Score: 0.8931\n",
      "Val loss Decreased from 0.3342 to 0.3324 \n",
      "Saving Weights... \n",
      "\n",
      "Epoch 57/100\n",
      "----------\n",
      "Learnin rate = 4.8828125e-05\n",
      "train Loss: 0.1696 | train Accuracy: 0.3762\n",
      "val Loss: 0.3305 | val Accuracy: 0.9073 | Kappa Score: 0.8930\n",
      "Val loss Decreased from 0.3324 to 0.3305 \n",
      "Saving Weights... \n",
      "\n",
      "Epoch 58/100\n",
      "----------\n",
      "Learnin rate = 4.8828125e-05\n",
      "train Loss: 0.1691 | train Accuracy: 0.3749\n",
      "val Loss: 0.3328 | val Accuracy: 0.9038 | Kappa Score: 0.8890\n",
      "\n",
      "Epoch 59/100\n",
      "----------\n",
      "Learnin rate = 4.8828125e-05\n",
      "train Loss: 0.1671 | train Accuracy: 0.3768\n",
      "val Loss: 0.3277 | val Accuracy: 0.9069 | Kappa Score: 0.8926\n",
      "Val loss Decreased from 0.3305 to 0.3277 \n",
      "Saving Weights... \n",
      "\n",
      "Epoch 60/100\n",
      "----------\n",
      "Learnin rate = 2.44140625e-05\n",
      "train Loss: 0.1689 | train Accuracy: 0.3773\n",
      "val Loss: 0.3283 | val Accuracy: 0.9065 | Kappa Score: 0.8922\n",
      "\n",
      "Epoch 61/100\n",
      "----------\n",
      "Learnin rate = 2.44140625e-05\n",
      "train Loss: 0.1665 | train Accuracy: 0.3780\n",
      "val Loss: 0.3295 | val Accuracy: 0.9073 | Kappa Score: 0.8931\n",
      "\n",
      "Epoch 62/100\n",
      "----------\n",
      "Learnin rate = 2.44140625e-05\n",
      "train Loss: 0.1697 | train Accuracy: 0.3750\n",
      "val Loss: 0.3267 | val Accuracy: 0.9077 | Kappa Score: 0.8936\n",
      "Val loss Decreased from 0.3277 to 0.3267 \n",
      "Saving Weights... \n",
      "\n",
      "Epoch 63/100\n",
      "----------\n",
      "Learnin rate = 2.44140625e-05\n",
      "train Loss: 0.1669 | train Accuracy: 0.3767\n",
      "val Loss: 0.3264 | val Accuracy: 0.9081 | Kappa Score: 0.8941\n",
      "Val loss Decreased from 0.3267 to 0.3264 \n",
      "Saving Weights... \n",
      "\n",
      "Epoch 64/100\n",
      "----------\n",
      "Learnin rate = 2.44140625e-05\n",
      "train Loss: 0.1670 | train Accuracy: 0.3754\n",
      "val Loss: 0.3239 | val Accuracy: 0.9088 | Kappa Score: 0.8947\n",
      "Val loss Decreased from 0.3264 to 0.3239 \n",
      "Saving Weights... \n",
      "\n",
      "Epoch 65/100\n",
      "----------\n",
      "Learnin rate = 1.220703125e-05\n",
      "train Loss: 0.1638 | train Accuracy: 0.3776\n",
      "val Loss: 0.3249 | val Accuracy: 0.9083 | Kappa Score: 0.8944\n",
      "\n",
      "Epoch 66/100\n",
      "----------\n",
      "Learnin rate = 1.220703125e-05\n",
      "train Loss: 0.1673 | train Accuracy: 0.3748\n",
      "val Loss: 0.3213 | val Accuracy: 0.9083 | Kappa Score: 0.8943\n",
      "Val loss Decreased from 0.3239 to 0.3213 \n",
      "Saving Weights... \n",
      "\n",
      "Epoch 67/100\n",
      "----------\n",
      "Learnin rate = 1.220703125e-05\n",
      "train Loss: 0.1671 | train Accuracy: 0.3773\n",
      "val Loss: 0.3230 | val Accuracy: 0.9073 | Kappa Score: 0.8930\n",
      "\n",
      "Epoch 68/100\n",
      "----------\n",
      "Learnin rate = 1.220703125e-05\n",
      "train Loss: 0.1661 | train Accuracy: 0.3771\n",
      "val Loss: 0.3252 | val Accuracy: 0.9081 | Kappa Score: 0.8941\n",
      "\n",
      "Epoch 69/100\n",
      "----------\n",
      "Learnin rate = 1.220703125e-05\n",
      "train Loss: 0.1633 | train Accuracy: 0.3781\n",
      "val Loss: 0.3280 | val Accuracy: 0.9069 | Kappa Score: 0.8927\n",
      "\n",
      "Epoch 70/100\n",
      "----------\n",
      "Learnin rate = 6.103515625e-06\n",
      "train Loss: 0.1633 | train Accuracy: 0.3786\n",
      "val Loss: 0.3233 | val Accuracy: 0.9092 | Kappa Score: 0.8952\n",
      "\n",
      "Epoch 71/100\n",
      "----------\n",
      "Learnin rate = 6.103515625e-06\n",
      "train Loss: 0.1660 | train Accuracy: 0.3770\n",
      "val Loss: 0.3235 | val Accuracy: 0.9075 | Kappa Score: 0.8935\n",
      "\n",
      "Epoch 72/100\n",
      "----------\n",
      "Learnin rate = 6.103515625e-06\n",
      "train Loss: 0.1653 | train Accuracy: 0.3765\n",
      "val Loss: 0.3216 | val Accuracy: 0.9090 | Kappa Score: 0.8949\n",
      "\n",
      "Epoch 73/100\n",
      "----------\n",
      "Learnin rate = 6.103515625e-06\n",
      "train Loss: 0.1662 | train Accuracy: 0.3771\n",
      "val Loss: 0.3218 | val Accuracy: 0.9085 | Kappa Score: 0.8945\n",
      "\n",
      "Epoch 74/100\n",
      "----------\n",
      "Learnin rate = 6.103515625e-06\n",
      "train Loss: 0.1609 | train Accuracy: 0.3801\n",
      "val Loss: 0.3216 | val Accuracy: 0.9085 | Kappa Score: 0.8946\n",
      "\n",
      "Epoch 75/100\n",
      "----------\n",
      "Learnin rate = 3.0517578125e-06\n",
      "train Loss: 0.1670 | train Accuracy: 0.3784\n",
      "val Loss: 0.3225 | val Accuracy: 0.9094 | Kappa Score: 0.8956\n",
      "\n",
      "Epoch 76/100\n",
      "----------\n",
      "Learnin rate = 3.0517578125e-06\n",
      "train Loss: 0.1654 | train Accuracy: 0.3777\n",
      "val Loss: 0.3227 | val Accuracy: 0.9083 | Kappa Score: 0.8945\n",
      "\n",
      "Epoch 77/100\n",
      "----------\n",
      "Learnin rate = 3.0517578125e-06\n",
      "train Loss: 0.1646 | train Accuracy: 0.3778\n",
      "val Loss: 0.3220 | val Accuracy: 0.9081 | Kappa Score: 0.8941\n",
      "\n",
      "Epoch 78/100\n",
      "----------\n",
      "Learnin rate = 3.0517578125e-06\n",
      "train Loss: 0.1644 | train Accuracy: 0.3763\n",
      "val Loss: 0.3216 | val Accuracy: 0.9081 | Kappa Score: 0.8941\n",
      "\n",
      "Epoch 79/100\n",
      "----------\n",
      "Learnin rate = 3.0517578125e-06\n",
      "train Loss: 0.1615 | train Accuracy: 0.3771\n",
      "val Loss: 0.3207 | val Accuracy: 0.9094 | Kappa Score: 0.8956\n",
      "Val loss Decreased from 0.3213 to 0.3207 \n",
      "Saving Weights... \n",
      "\n",
      "Epoch 80/100\n",
      "----------\n",
      "Learnin rate = 1.52587890625e-06\n",
      "train Loss: 0.1654 | train Accuracy: 0.3756\n",
      "val Loss: 0.3224 | val Accuracy: 0.9098 | Kappa Score: 0.8961\n",
      "\n",
      "Epoch 81/100\n",
      "----------\n",
      "Learnin rate = 1.52587890625e-06\n",
      "train Loss: 0.1650 | train Accuracy: 0.3779\n",
      "val Loss: 0.3224 | val Accuracy: 0.9088 | Kappa Score: 0.8947\n",
      "\n",
      "Epoch 82/100\n",
      "----------\n",
      "Learnin rate = 1.52587890625e-06\n",
      "train Loss: 0.1659 | train Accuracy: 0.3754\n",
      "val Loss: 0.3207 | val Accuracy: 0.9081 | Kappa Score: 0.8940\n",
      "Val loss Decreased from 0.3207 to 0.3207 \n",
      "Saving Weights... \n",
      "\n",
      "Epoch 83/100\n",
      "----------\n",
      "Learnin rate = 1.52587890625e-06\n",
      "train Loss: 0.1631 | train Accuracy: 0.3792\n",
      "val Loss: 0.3207 | val Accuracy: 0.9083 | Kappa Score: 0.8943\n",
      "\n",
      "Epoch 84/100\n",
      "----------\n",
      "Learnin rate = 1.52587890625e-06\n",
      "train Loss: 0.1649 | train Accuracy: 0.3787\n",
      "val Loss: 0.3208 | val Accuracy: 0.9065 | Kappa Score: 0.8921\n",
      "\n",
      "Epoch 85/100\n",
      "----------\n",
      "Learnin rate = 7.62939453125e-07\n",
      "train Loss: 0.1647 | train Accuracy: 0.3786\n",
      "val Loss: 0.3205 | val Accuracy: 0.9098 | Kappa Score: 0.8959\n",
      "Val loss Decreased from 0.3207 to 0.3205 \n",
      "Saving Weights... \n",
      "\n",
      "Epoch 86/100\n",
      "----------\n",
      "Learnin rate = 7.62939453125e-07\n",
      "train Loss: 0.1693 | train Accuracy: 0.3747\n",
      "val Loss: 0.3208 | val Accuracy: 0.9075 | Kappa Score: 0.8935\n",
      "\n",
      "Epoch 87/100\n",
      "----------\n",
      "Learnin rate = 7.62939453125e-07\n",
      "train Loss: 0.1621 | train Accuracy: 0.3777\n",
      "val Loss: 0.3226 | val Accuracy: 0.9092 | Kappa Score: 0.8954\n",
      "\n",
      "Epoch 88/100\n",
      "----------\n",
      "Learnin rate = 7.62939453125e-07\n",
      "train Loss: 0.1611 | train Accuracy: 0.3794\n",
      "val Loss: 0.3222 | val Accuracy: 0.9088 | Kappa Score: 0.8947\n",
      "\n",
      "Epoch 89/100\n",
      "----------\n",
      "Learnin rate = 7.62939453125e-07\n",
      "train Loss: 0.1638 | train Accuracy: 0.3778\n",
      "val Loss: 0.3249 | val Accuracy: 0.9069 | Kappa Score: 0.8927\n",
      "\n",
      "Epoch 90/100\n",
      "----------\n",
      "Learnin rate = 3.814697265625e-07\n",
      "train Loss: 0.1703 | train Accuracy: 0.3748\n",
      "val Loss: 0.3210 | val Accuracy: 0.9096 | Kappa Score: 0.8958\n",
      "\n",
      "Epoch 91/100\n",
      "----------\n",
      "Learnin rate = 3.814697265625e-07\n",
      "train Loss: 0.1670 | train Accuracy: 0.3771\n",
      "val Loss: 0.3224 | val Accuracy: 0.9085 | Kappa Score: 0.8946\n",
      "\n",
      "Epoch 92/100\n",
      "----------\n",
      "Learnin rate = 3.814697265625e-07\n",
      "train Loss: 0.1655 | train Accuracy: 0.3785\n",
      "val Loss: 0.3226 | val Accuracy: 0.9079 | Kappa Score: 0.8939\n",
      "\n",
      "Epoch 93/100\n",
      "----------\n",
      "Learnin rate = 3.814697265625e-07\n",
      "train Loss: 0.1653 | train Accuracy: 0.3786\n",
      "val Loss: 0.3201 | val Accuracy: 0.9092 | Kappa Score: 0.8952\n",
      "Val loss Decreased from 0.3205 to 0.3201 \n",
      "Saving Weights... \n",
      "\n",
      "Epoch 94/100\n",
      "----------\n",
      "Learnin rate = 3.814697265625e-07\n",
      "train Loss: 0.1630 | train Accuracy: 0.3794\n",
      "val Loss: 0.3210 | val Accuracy: 0.9085 | Kappa Score: 0.8946\n",
      "\n",
      "Epoch 95/100\n",
      "----------\n",
      "Learnin rate = 1.9073486328125e-07\n",
      "train Loss: 0.1635 | train Accuracy: 0.3778\n",
      "val Loss: 0.3220 | val Accuracy: 0.9100 | Kappa Score: 0.8961\n",
      "\n",
      "Epoch 96/100\n",
      "----------\n",
      "Learnin rate = 1.9073486328125e-07\n",
      "train Loss: 0.1696 | train Accuracy: 0.3781\n",
      "val Loss: 0.3260 | val Accuracy: 0.9073 | Kappa Score: 0.8931\n",
      "\n",
      "Epoch 97/100\n",
      "----------\n",
      "Learnin rate = 1.9073486328125e-07\n",
      "train Loss: 0.1658 | train Accuracy: 0.3766\n",
      "val Loss: 0.3221 | val Accuracy: 0.9102 | Kappa Score: 0.8964\n",
      "\n",
      "Epoch 98/100\n",
      "----------\n",
      "Learnin rate = 1.9073486328125e-07\n",
      "train Loss: 0.1672 | train Accuracy: 0.3770\n",
      "val Loss: 0.3237 | val Accuracy: 0.9071 | Kappa Score: 0.8929\n",
      "\n",
      "Epoch 99/100\n",
      "----------\n",
      "Learnin rate = 1.9073486328125e-07\n",
      "train Loss: 0.1635 | train Accuracy: 0.3791\n",
      "val Loss: 0.3222 | val Accuracy: 0.9085 | Kappa Score: 0.8946\n",
      "\n",
      "Epoch 100/100\n",
      "----------\n",
      "Learnin rate = 9.5367431640625e-08\n",
      "train Loss: 0.1683 | train Accuracy: 0.3763\n",
      "val Loss: 0.3218 | val Accuracy: 0.9083 | Kappa Score: 0.8942\n",
      "\n",
      "Training complete in 210m 29s\n",
      "Best val loss: 0.3201\n"
     ]
    }
   ],
   "source": [
    "#model.load_state_dict(torch.load(drive+f\"model_13marzo_final.pth\"))\n",
    "dataloaders = {\"train\":train_dataloader, \"val\":test_dataloader}\n",
    "data_sizes = {x: len(dataloaders[x].sampler) for x in ['train','val']}\n",
    "base_model = train_model(model, loss_fn, optimizer, exp_lr_scheduler, num_epochs=100)"
   ]
  },
  {
   "cell_type": "markdown",
   "id": "0f53a76b-fa39-48c1-92e8-dbf6930ff640",
   "metadata": {},
   "source": [
    "# 5. Guardamos el modelo con la menor perdida\n",
    "- Se comprueba la matriz de confusion\n",
    "- Se exporta el modelo al completo"
   ]
  },
  {
   "cell_type": "code",
   "execution_count": null,
   "id": "282d4051-00d9-4569-b933-9319c6c6bd3c",
   "metadata": {
    "id": "nSonA8SYR_CA"
   },
   "outputs": [],
   "source": [
    "torch.save(base_model.state_dict(), drive+f\"model_14marzo_parcial__.pth\")"
   ]
  },
  {
   "cell_type": "code",
   "execution_count": 26,
   "id": "20d64c9c-d555-4c1f-9d76-c1ff483b3953",
   "metadata": {},
   "outputs": [
    {
     "data": {
      "text/plain": [
       "<All keys matched successfully>"
      ]
     },
     "execution_count": 26,
     "metadata": {},
     "output_type": "execute_result"
    }
   ],
   "source": [
    "PATH = drive+r\"model_14marzo_parcial__.pth\"\n",
    "model.load_state_dict(torch.load(PATH))"
   ]
  },
  {
   "cell_type": "code",
   "execution_count": 27,
   "id": "85e9645c-1d20-4654-8dc4-10e2eb84f2d6",
   "metadata": {
    "id": "85e9645c-1d20-4654-8dc4-10e2eb84f2d6"
   },
   "outputs": [
    {
     "data": {
      "text/plain": [
       "9"
      ]
     },
     "execution_count": 27,
     "metadata": {},
     "output_type": "execute_result"
    }
   ],
   "source": [
    "import gc\n",
    "gc.collect() # Python thing"
   ]
  },
  {
   "cell_type": "code",
   "execution_count": 28,
   "id": "5bd300f1-f7cc-40f3-a70f-f2b86b0df532",
   "metadata": {
    "id": "5bd300f1-f7cc-40f3-a70f-f2b86b0df532"
   },
   "outputs": [],
   "source": [
    "y_pred = []\n",
    "y_true = []\n",
    "\n",
    "# iterate over test data\n",
    "for inputs, labels in test_dataloader:\n",
    "        inputs = inputs.to(device)\n",
    "        y = Variable(labels.to(device))\n",
    "        \n",
    "        output = model(inputs) # Feed Network\n",
    "\n",
    "        output = (torch.max(torch.exp(output), 1)[1]).data.cpu().numpy()\n",
    "        y_pred.extend(output) # Save Prediction\n",
    "        \n",
    "        #labels = labels.data.cpu().numpy()\n",
    "        y_true.extend(labels) # Save Truth"
   ]
  },
  {
   "cell_type": "code",
   "execution_count": 29,
   "id": "_Lovy0qCfDTj",
   "metadata": {
    "id": "_Lovy0qCfDTj"
   },
   "outputs": [
    {
     "name": "stdout",
     "output_type": "stream",
     "text": [
      "[[580   0   5   3   2   0  10   3]\n",
      " [  5 503   6  13   3   5  21  13]\n",
      " [  0   2 579   5   6   5  12  12]\n",
      " [  0  13   6 548  14  11   3   9]\n",
      " [  1   4   7  14 560  12  10   9]\n",
      " [  0   4   5   7  12 541  13  15]\n",
      " [ 22  16   6  11   3  13 509  13]\n",
      " [  1  10   6   2   9  12  12 544]]\n"
     ]
    }
   ],
   "source": [
    "# Calcular la matriz de confusión\n",
    "labels = [\"Burger\",\"Pollo\",\"Donut\",\"Fries\",\"HotDog-papta\",\"Pizza\",\"Bocata\",\"Patata\"]\n",
    "labels_parcial = [\"Burger-bocata\",\"Pollo\",\"Donut\",\"Fries\",\"HotDog-papta\",\"Pizza\"]\n",
    "conf_matrix = confusion_matrix(y_true, y_pred)\n",
    "print(conf_matrix)"
   ]
  },
  {
   "cell_type": "code",
   "execution_count": 31,
   "id": "b201591d-2cb2-4f1f-a0a7-42d58701ff02",
   "metadata": {},
   "outputs": [
    {
     "data": {
      "image/png": "[encoded data removed]",
      "text/plain": [
       "<Figure size 640x480 with 2 Axes>"
      ]
     },
     "metadata": {},
     "output_type": "display_data"
    }
   ],
   "source": [
    "import matplotlib.pyplot as plt\n",
    "from sklearn.datasets import make_classification\n",
    "from sklearn.metrics import confusion_matrix, ConfusionMatrixDisplay\n",
    "from sklearn.model_selection import train_test_split\n",
    "from sklearn.svm import SVC\n",
    "\n",
    "disp = ConfusionMatrixDisplay(confusion_matrix=conf_matrix, display_labels=labels)\n",
    "disp.plot()\n",
    "\n",
    "plt.show()"
   ]
  },
  {
   "cell_type": "code",
   "execution_count": 104,
   "id": "d1e28daa-6290-488f-a691-d356ec3aa9ed",
   "metadata": {},
   "outputs": [
    {
     "data": {
      "text/plain": [
       "<function sklearn.metrics._classification.confusion_matrix(y_true, y_pred, *, labels=None, sample_weight=None, normalize=None)>"
      ]
     },
     "execution_count": 104,
     "metadata": {},
     "output_type": "execute_result"
    }
   ],
   "source": [
    "confusion_matrix"
   ]
  },
  {
   "cell_type": "code",
   "execution_count": 1,
   "id": "79339aeb-013f-4300-8306-bd39f6922d81",
   "metadata": {},
   "outputs": [
    {
     "ename": "NameError",
     "evalue": "name 'classification_report' is not defined",
     "output_type": "error",
     "traceback": [
      "\u001b[0;31m---------------------------------------------------------------------------\u001b[0m",
      "\u001b[0;31mNameError\u001b[0m                                 Traceback (most recent call last)",
      "Cell \u001b[0;32mIn[1], line 1\u001b[0m\n\u001b[0;32m----> 1\u001b[0m \u001b[38;5;28mprint\u001b[39m(\u001b[43mclassification_report\u001b[49m(y_true, y_pred,target_names\u001b[38;5;241m=\u001b[39mlabels_parcial))\n",
      "\u001b[0;31mNameError\u001b[0m: name 'classification_report' is not defined"
     ]
    }
   ],
   "source": [
    "print(classification_report(y_true, y_pred,target_names=labels_parcial))"
   ]
  },
  {
   "cell_type": "code",
   "execution_count": null,
   "id": "fde877b5-94c7-4b80-9820-fa55f8f56931",
   "metadata": {},
   "outputs": [],
   "source": [
    "#Guarda el modelo  grande\n",
    "PATH = drive+r\"ModeloFinalGrande_trans.pt\"\n",
    "torch.save(model, PATH)"
   ]
  },
  {
   "cell_type": "code",
   "execution_count": null,
   "id": "a4df1180-c3f4-42cb-b6d6-788720395098",
   "metadata": {},
   "outputs": [],
   "source": []
  }
 ],
 "metadata": {
  "accelerator": "GPU",
  "colab": {
   "provenance": [],
   "toc_visible": true
  },
  "gpuClass": "standard",
  "kernelspec": {
   "display_name": "Python 3 (ipykernel)",
   "language": "python",
   "name": "python3"
  },
  "language_info": {
   "codemirror_mode": {
    "name": "ipython",
    "version": 3
   },
   "file_extension": ".py",
   "mimetype": "text/x-python",
   "name": "python",
   "nbconvert_exporter": "python",
   "pygments_lexer": "ipython3",
   "version": "3.9.12"
  }
 },
 "nbformat": 4,
 "nbformat_minor": 5
}
